{
 "cells": [
  {
   "cell_type": "markdown",
   "id": "d6ec8ded",
   "metadata": {},
   "source": [
    "### Convert a list of characters into a string | NLP\n",
    "<img src=\"https://user-images.githubusercontent.com/32620288/166104650-bca608ed-afc3-4c56-8bf2-eebf0b52b054.png\" width=\"400\" height=\"1\">\n",
    "\n",
    "Input : ['p', 'r', 'o', 'g', 'r', 'a', 'm', 'm', 'i', 'n', 'g']\n",
    "\n",
    "Output : programming "
   ]
  },
  {
   "cell_type": "markdown",
   "id": "dc92cf46",
   "metadata": {},
   "source": [
    "##### Traversal of list\n",
    "Initialize an empty string at the beginning. Traverse in the list of characters, for every index add character to the initial string. After complete traversal, print the string which has been added with every character."
   ]
  },
  {
   "cell_type": "code",
   "execution_count": 2,
   "id": "3a00a5a8",
   "metadata": {},
   "outputs": [
    {
     "name": "stdout",
     "output_type": "stream",
     "text": [
      "Sweden If Attacked\n"
     ]
    }
   ],
   "source": [
    "# Python program to convert a list\n",
    "# of character\n",
    "  \n",
    "def convert(s):\n",
    "  \n",
    "    # initialization of string to \"\"\n",
    "    new = \"\"\n",
    "  \n",
    "    # traverse in the string \n",
    "    for x in s:\n",
    "        new += x \n",
    "  \n",
    "    # return string \n",
    "    return new\n",
    "      \n",
    "      \n",
    "# driver code   \n",
    "s = ['S', 'w', 'e', 'd', 'e', 'n', ' ', 'I', 'f', ' ', 'A', 't', 't', 'a', 'c', 'k', 'e', 'd']\n",
    "print(convert(s))"
   ]
  },
  {
   "cell_type": "markdown",
   "id": "3e8ba063",
   "metadata": {},
   "source": [
    "##### Using join() function \n",
    "By using join() function in python, all characters in the list can be joined."
   ]
  },
  {
   "cell_type": "code",
   "execution_count": 3,
   "id": "5b65c4f3",
   "metadata": {},
   "outputs": [
    {
     "name": "stdout",
     "output_type": "stream",
     "text": [
      "Sweden If Attacked\n"
     ]
    }
   ],
   "source": [
    "# Python program to convert a list\n",
    "# of character\n",
    "  \n",
    "def convert(s):\n",
    "  \n",
    "    # initialization of string to \"\"\n",
    "    str1 = \"\"\n",
    "  \n",
    "    # using join function join the list s by \n",
    "    # separating words by str1\n",
    "    return(str1.join(s))\n",
    "      \n",
    "# driver code   \n",
    "s = ['S', 'w', 'e', 'd', 'e', 'n', ' ', 'I', 'f', ' ', 'A', 't', 't', 'a', 'c', 'k', 'e', 'd']\n",
    "print(convert(s))"
   ]
  },
  {
   "cell_type": "markdown",
   "id": "e2237739",
   "metadata": {},
   "source": [
    " --------"
   ]
  },
  {
   "cell_type": "markdown",
   "id": "a4b33a58",
   "metadata": {},
   "source": [
    "### Convert a list to string\n",
    "Input: ['I', 'want', 4, 'apples', 'and', 18, 'bananas']\n",
    "\n",
    "Output: I want 4 apples and 18 bananas"
   ]
  },
  {
   "cell_type": "code",
   "execution_count": 5,
   "id": "740b82fd",
   "metadata": {},
   "outputs": [
    {
     "name": "stdout",
     "output_type": "stream",
     "text": [
      "TurkeyBlocksFinlandAndSwedenNATO Bid\n"
     ]
    }
   ],
   "source": [
    "# Function to convert  \n",
    "def listToString(s): \n",
    "    \n",
    "    # initialize an empty string\n",
    "    str1 = \"\" \n",
    "    \n",
    "    # traverse in the string  \n",
    "    for ele in s: \n",
    "        str1 += ele  \n",
    "    \n",
    "    # return string  \n",
    "    return str1 \n",
    "        \n",
    "        \n",
    "# Driver code    \n",
    "s = ['Turkey','Blocks','Finland','And','Sweden','NATO Bid']\n",
    "print(listToString(s)) "
   ]
  },
  {
   "cell_type": "markdown",
   "id": "905aa4a5",
   "metadata": {},
   "source": [
    "##### Using .join() method"
   ]
  },
  {
   "cell_type": "code",
   "execution_count": 6,
   "id": "08854359",
   "metadata": {},
   "outputs": [
    {
     "name": "stdout",
     "output_type": "stream",
     "text": [
      "Turkey Blocks Finland And Sweden NATO Bid\n"
     ]
    }
   ],
   "source": [
    "# to string using join() function\n",
    "    \n",
    "# Function to convert  \n",
    "def listToString(s): \n",
    "    \n",
    "    # initialize an empty string\n",
    "    str1 = \" \" \n",
    "    \n",
    "    # return string  \n",
    "    return (str1.join(s))\n",
    "        \n",
    "        \n",
    "# Driver code    \n",
    "s = ['Turkey','Blocks','Finland','And','Sweden','NATO Bid']\n",
    "print(listToString(s))"
   ]
  },
  {
   "cell_type": "markdown",
   "id": "aaf66e95",
   "metadata": {},
   "source": [
    "##### Using list comprehension"
   ]
  },
  {
   "cell_type": "code",
   "execution_count": 7,
   "id": "d247b213",
   "metadata": {},
   "outputs": [
    {
     "name": "stdout",
     "output_type": "stream",
     "text": [
      "Ukraine war enters day 84\n"
     ]
    }
   ],
   "source": [
    "# to string using list comprehension\n",
    "   \n",
    "s = ['Ukraine','war','enters','day',84]\n",
    "  \n",
    "# using list comprehension\n",
    "listToStr = ' '.join([str(elem) for elem in s])\n",
    "  \n",
    "print(listToStr) "
   ]
  },
  {
   "cell_type": "markdown",
   "id": "5f105242",
   "metadata": {},
   "source": [
    "##### Using map()\n",
    "Use map() method for mapping str (for converting elements in list to string) with given iterator, the list."
   ]
  },
  {
   "cell_type": "code",
   "execution_count": 8,
   "id": "01364538",
   "metadata": {},
   "outputs": [
    {
     "name": "stdout",
     "output_type": "stream",
     "text": [
      "Ukraine war enters day 84\n"
     ]
    }
   ],
   "source": [
    "# to string using list comprehension\n",
    "   \n",
    "s = ['Ukraine','war','enters','day',84]\n",
    "  \n",
    "# using list comprehension\n",
    "listToStr = ' '.join(map(str, s))\n",
    "  \n",
    "print(listToStr) "
   ]
  },
  {
   "cell_type": "markdown",
   "id": "12ab2074",
   "metadata": {},
   "source": [
    "-------"
   ]
  },
  {
   "cell_type": "markdown",
   "id": "c591ce47",
   "metadata": {},
   "source": [
    "### Convert String to a List\n",
    "Input : \"Geeks-for-Geeks\"\n",
    "\n",
    "Output : ['Geeks', 'for', 'Geeks']\n",
    "\n",
    "###### string.split(\"delimiter\")\n",
    "\n",
    "The split method is used to split the strings and store them in the list. The built-in method returns a list of the words in the string, using the “delimiter” as the delimiter string. If a delimiter is not specified or is None, a different splitting algorithm is applied: runs of consecutive whitespace are regarded as a single separator, and the result will contain no empty strings at the start or end if the string has leading or trailing whitespace."
   ]
  },
  {
   "cell_type": "code",
   "execution_count": 9,
   "id": "e7e12e4b",
   "metadata": {},
   "outputs": [
    {
     "name": "stdout",
     "output_type": "stream",
     "text": [
      "['Turkey', 'Blocks', 'Finland', 'And', \"Sweden's\", 'NATO', 'Bid']\n"
     ]
    }
   ],
   "source": [
    "\n",
    "# Python code to convert string to list\n",
    "  \n",
    "def Convert(string):\n",
    "    li = list(string.split(\" \"))\n",
    "    return li\n",
    "  \n",
    "# Driver code    \n",
    "str1 = \"Turkey Blocks Finland And Sweden's NATO Bid\"\n",
    "print(Convert(str1))"
   ]
  },
  {
   "cell_type": "code",
   "execution_count": 12,
   "id": "60ef1b68",
   "metadata": {},
   "outputs": [
    {
     "name": "stdout",
     "output_type": "stream",
     "text": [
      "['Turkey', 'Blocks', 'Finland', 'And', \"Sweden's\", 'NATO', 'Bid']\n"
     ]
    }
   ],
   "source": [
    "# Python code to convert string to list\n",
    "def Convert(string):\n",
    "    li = list(string.split(\"-\"))\n",
    "    return li\n",
    "  \n",
    "# Driver code    \n",
    "str1 = \"Turkey-Blocks-Finland-And-Sweden's-NATO-Bid\"\n",
    "print(Convert(str1))"
   ]
  },
  {
   "cell_type": "code",
   "execution_count": 13,
   "id": "d396ecb8",
   "metadata": {},
   "outputs": [
    {
     "name": "stdout",
     "output_type": "stream",
     "text": [
      "['W', 'e', 'd', 'n', 'e', 's', 'd', 'a', 'y']\n"
     ]
    }
   ],
   "source": [
    "# Python code to convert string to list character-wise\n",
    "def Convert(string):\n",
    "    list1=[]\n",
    "    list1[:0]=string\n",
    "    return list1\n",
    "# Driver code\n",
    "str1=\"Wednesday\"\n",
    "print(Convert(str1))"
   ]
  },
  {
   "cell_type": "markdown",
   "id": "4788f273",
   "metadata": {},
   "source": [
    "-----"
   ]
  }
 ],
 "metadata": {
  "kernelspec": {
   "display_name": "Python 3 (ipykernel)",
   "language": "python",
   "name": "python3"
  },
  "language_info": {
   "codemirror_mode": {
    "name": "ipython",
    "version": 3
   },
   "file_extension": ".py",
   "mimetype": "text/x-python",
   "name": "python",
   "nbconvert_exporter": "python",
   "pygments_lexer": "ipython3",
   "version": "3.8.12"
  }
 },
 "nbformat": 4,
 "nbformat_minor": 5
}
