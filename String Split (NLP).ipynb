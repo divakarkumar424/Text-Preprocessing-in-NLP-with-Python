{
 "cells": [
  {
   "cell_type": "markdown",
   "id": "56b80dff",
   "metadata": {},
   "source": [
    "### String | split()\n",
    "<img src=\"https://user-images.githubusercontent.com/32620288/166104650-bca608ed-afc3-4c56-8bf2-eebf0b52b054.png\" width=\"400\" height=\"1\">\n",
    "\n",
    "----\n",
    "split() method in Python split a string into a list of strings after breaking the given string by the specified separator.\n",
    "\n",
    "Syntax : str.split(separator, maxsplit)\n",
    "\n",
    "Parameters :\n",
    "separator : This is a delimiter. The string splits at this specified separator. If is not provided then any white space is a separator.\n",
    "\n",
    "maxsplit : It is a number, which tells us to split the string into maximum of provided number of times. If it is not provided then the default is -1 that means there is no limit.\n",
    "\n",
    "Returns : Returns a list of strings after breaking the given string by the specified separator."
   ]
  },
  {
   "cell_type": "code",
   "execution_count": 1,
   "id": "50b3c549",
   "metadata": {},
   "outputs": [
    {
     "name": "stdout",
     "output_type": "stream",
     "text": [
      "['New', 'Zealand', 'Is', 'To', 'Provide', 'NZ$', '500,000', 'In', 'Assistance']\n",
      "['New Zealand Is To Provide NZ$ 500', '000 In Assistance']\n",
      "['New Zealand Is To Provide NZ$ 500,000 In Assistance']\n",
      "['New Zealand Is To Provide NZ$ 500,000 In Assis', 'ance']\n"
     ]
    }
   ],
   "source": [
    "text = 'New Zealand Is To Provide NZ$ 500,000 In Assistance'\n",
    "  \n",
    "# Splits at space\n",
    "print(text.split())\n",
    "  \n",
    "word = 'New Zealand Is To Provide NZ$ 500,000 In Assistance'\n",
    "  \n",
    "# Splits at ','\n",
    "print(word.split(','))\n",
    "  \n",
    "word = 'New Zealand Is To Provide NZ$ 500,000 In Assistance'\n",
    "  \n",
    "# Splitting at ':'\n",
    "print(word.split(':'))\n",
    "  \n",
    "word = 'New Zealand Is To Provide NZ$ 500,000 In Assistance'\n",
    "  \n",
    "# Splitting at t\n",
    "print(word.split('t'))"
   ]
  },
  {
   "cell_type": "code",
   "execution_count": 2,
   "id": "5627f071",
   "metadata": {},
   "outputs": [
    {
     "name": "stdout",
     "output_type": "stream",
     "text": [
      "['Britain Pledges, To Defend, Sweden, If, Attacked']\n",
      "['Britain Pledges', 'To Defend', 'Sweden', 'If', 'Attacked']\n",
      "['Britain Pledges', 'To Defend, Sweden, If, Attacked']\n"
     ]
    }
   ],
   "source": [
    "word = 'Britain Pledges, To Defend, Sweden, If, Attacked'\n",
    "  \n",
    "# maxsplit: 0\n",
    "print(word.split(', ', 0))\n",
    "  \n",
    "# maxsplit: 4\n",
    "print(word.split(', ', 4))\n",
    "  \n",
    "# maxsplit: 1\n",
    "print(word.split(', ', 1))"
   ]
  },
  {
   "cell_type": "markdown",
   "id": "92f8f684",
   "metadata": {},
   "source": [
    "## Split string into list of characters\n",
    "Input : Word\n",
    "Output : ['W', 'o', 'r', 'd']"
   ]
  },
  {
   "cell_type": "markdown",
   "id": "0b689c71",
   "metadata": {},
   "source": [
    "##### Using List Comprehension\n",
    "This approach uses list comprehension to convert each character into a list. Using the following syntax you can split the characters of a string into a list."
   ]
  },
  {
   "cell_type": "code",
   "execution_count": 3,
   "id": "44d06eea",
   "metadata": {},
   "outputs": [
    {
     "name": "stdout",
     "output_type": "stream",
     "text": [
      "['S', 'w', 'e', 'd', 'e', 'n', ' ', 'I', 'f', ' ', 'A', 't', 't', 'a', 'c', 'k', 'e', 'd']\n"
     ]
    }
   ],
   "source": [
    "# Python3 program to Split string into characters\n",
    "def split(word):\n",
    "    return [char for char in word]\n",
    "     \n",
    "# Driver code\n",
    "word = 'Sweden If Attacked'\n",
    "print(split(word))"
   ]
  },
  {
   "cell_type": "markdown",
   "id": "da5ef6d9",
   "metadata": {},
   "source": [
    "##### Typecasting to list \n",
    "Python provides direct typecasting of string into list using list()."
   ]
  },
  {
   "cell_type": "code",
   "execution_count": 4,
   "id": "f9d5c81b",
   "metadata": {},
   "outputs": [
    {
     "name": "stdout",
     "output_type": "stream",
     "text": [
      "['S', 'w', 'e', 'd', 'e', 'n', ' ', 'I', 'f', ' ', 'A', 't', 't', 'a', 'c', 'k', 'e', 'd']\n"
     ]
    }
   ],
   "source": [
    "# Python3 program to Split string into characters\n",
    "def split(word):\n",
    "    return list(word)\n",
    "     \n",
    "# Driver code\n",
    "word = 'Sweden If Attacked'\n",
    "print(split(word))"
   ]
  },
  {
   "cell_type": "markdown",
   "id": "09daaabc",
   "metadata": {},
   "source": [
    "------------------------------------------------"
   ]
  },
  {
   "cell_type": "markdown",
   "id": "2e284558",
   "metadata": {},
   "source": [
    "## Splitting string to list of characters\n",
    "\n",
    "Sometimes we need to work with just the lists and hence strings might need to be converted into lists."
   ]
  },
  {
   "cell_type": "markdown",
   "id": "aa8dcaca",
   "metadata": {},
   "source": [
    "###### Using list slicing\n",
    "List slicing can be used for this particular purpose, in which we assign to each index element of list the next occurring character of string using the slice operation."
   ]
  },
  {
   "cell_type": "code",
   "execution_count": 5,
   "id": "0591fe49",
   "metadata": {},
   "outputs": [
    {
     "name": "stdout",
     "output_type": "stream",
     "text": [
      "The original string is : $40 billion tax payers money in aid for Ukraine\n",
      "The resultant list of characters : ['$', '4', '0', ' ', 'b', 'i', 'l', 'l', 'i', 'o', 'n', ' ', 't', 'a', 'x', ' ', 'p', 'a', 'y', 'e', 'r', 's', ' ', 'm', 'o', 'n', 'e', 'y', ' ', 'i', 'n', ' ', 'a', 'i', 'd', ' ', 'f', 'o', 'r', ' ', 'U', 'k', 'r', 'a', 'i', 'n', 'e']\n"
     ]
    }
   ],
   "source": [
    "# splitting string to list of characters.\n",
    "# using list slicing\n",
    "  \n",
    "# initializing string\n",
    "test_string = \"$40 billion tax payers money in aid for Ukraine\"\n",
    "  \n",
    "# printing original string \n",
    "print (\"The original string is : \" + str(test_string))\n",
    "  \n",
    "# using list slicing\n",
    "# for splitting string to list of characters\n",
    "res = []\n",
    "res[:] = test_string\n",
    "  \n",
    "# printing result\n",
    "print (\"The resultant list of characters : \" +  str(res))"
   ]
  },
  {
   "cell_type": "markdown",
   "id": "782f3b09",
   "metadata": {},
   "source": [
    "##### Using list()\n",
    "The most concise and readable way to perform splitting is to type case string into list and the splitting of list is automatically handled internally. This is recommended method to perform this particular task."
   ]
  },
  {
   "cell_type": "code",
   "execution_count": 6,
   "id": "e4b5f1a4",
   "metadata": {},
   "outputs": [
    {
     "name": "stdout",
     "output_type": "stream",
     "text": [
      "The original string is : $40 billion tax payers money in aid for Ukraine\n",
      "The resultant list of characters : ['$', '4', '0', ' ', 'b', 'i', 'l', 'l', 'i', 'o', 'n', ' ', 't', 'a', 'x', ' ', 'p', 'a', 'y', 'e', 'r', 's', ' ', 'm', 'o', 'n', 'e', 'y', ' ', 'i', 'n', ' ', 'a', 'i', 'd', ' ', 'f', 'o', 'r', ' ', 'U', 'k', 'r', 'a', 'i', 'n', 'e']\n"
     ]
    }
   ],
   "source": [
    "# splitting string to list of characters.\n",
    "# using list()\n",
    "  \n",
    "# initializing string\n",
    "test_string = \"$40 billion tax payers money in aid for Ukraine\"\n",
    "  \n",
    "# printing original string \n",
    "print (\"The original string is : \" + str(test_string))\n",
    "  \n",
    "# using list()\n",
    "# for splitting string to list of characters\n",
    "res = list(test_string)\n",
    "  \n",
    "# printing result\n",
    "print (\"The resultant list of characters : \" +  str(res))"
   ]
  },
  {
   "cell_type": "markdown",
   "id": "2a709bed",
   "metadata": {},
   "source": [
    "##### Using map() + lambda\n",
    "This is yet another way to perform this particular task. Though not recommended but can be used in certain situations. But drawback is readability of code gets sacrificed."
   ]
  },
  {
   "cell_type": "code",
   "execution_count": 7,
   "id": "0ce93782",
   "metadata": {},
   "outputs": [
    {
     "name": "stdout",
     "output_type": "stream",
     "text": [
      "The original string is : $40 billion tax payers money in aid for Ukraine\n",
      "The resultant list of characters : ['$', '4', '0', ' ', 'b', 'i', 'l', 'l', 'i', 'o', 'n', ' ', 't', 'a', 'x', ' ', 'p', 'a', 'y', 'e', 'r', 's', ' ', 'm', 'o', 'n', 'e', 'y', ' ', 'i', 'n', ' ', 'a', 'i', 'd', ' ', 'f', 'o', 'r', ' ', 'U', 'k', 'r', 'a', 'i', 'n', 'e']\n"
     ]
    }
   ],
   "source": [
    "# splitting string to list of characters.\n",
    "# using map() + lambda\n",
    "  \n",
    "# initializing string\n",
    "test_string = \"$40 billion tax payers money in aid for Ukraine\"\n",
    "  \n",
    "# printing original string \n",
    "print (\"The original string is : \" + str(test_string))\n",
    "  \n",
    "# using map() + lambda\n",
    "# for splitting string to list of characters\n",
    "res = list(map(lambda i:i, test_string))\n",
    "  \n",
    "# printing result\n",
    "print (\"The resultant list of characters : \" +  str(res))"
   ]
  },
  {
   "cell_type": "markdown",
   "id": "4e0c8f2b",
   "metadata": {},
   "source": [
    "-------------"
   ]
  },
  {
   "cell_type": "markdown",
   "id": "d8faf72f",
   "metadata": {},
   "source": [
    "## Splitting string to list of characters\n",
    "Sometimes we get a string and we need to split it into the individual processing. This is quite a common utility and has application in many domains, be it Machine Learning or Web Development. "
   ]
  },
  {
   "cell_type": "markdown",
   "id": "87cb676e",
   "metadata": {},
   "source": [
    "##### Using list()\n",
    "This is the simplest way to achieve this particular task using the internal implementation of the inbuilt list function which helps in breaking a string into its character components."
   ]
  },
  {
   "cell_type": "code",
   "execution_count": 8,
   "id": "ae8d3ba3",
   "metadata": {},
   "outputs": [
    {
     "name": "stdout",
     "output_type": "stream",
     "text": [
      "The original string is : Bidenadministration\n",
      "The splitted character's list is : ['B', 'i', 'd', 'e', 'n', 'a', 'd', 'm', 'i', 'n', 'i', 's', 't', 'r', 'a', 't', 'i', 'o', 'n']\n"
     ]
    }
   ],
   "source": [
    "# split string to character list\n",
    "# using list()\n",
    "  \n",
    "# initializing string\n",
    "test_string = 'Bidenadministration'\n",
    "  \n",
    "# printing the original string\n",
    "print (\"The original string is : \" + str(test_string))\n",
    "  \n",
    "# using list()\n",
    "# to split string to character list\n",
    "res = list(test_string)\n",
    "  \n",
    "# printing result\n",
    "print (\"The splitted character's list is : \" + str(res))"
   ]
  },
  {
   "cell_type": "markdown",
   "id": "fad6ac2d",
   "metadata": {},
   "source": [
    "##### Using map()\n",
    "The map function can also be used to perform this particular task. The map function needs to be feeded with None value to perform this task as first argument and the target string as the last argument. Works for Python2 only."
   ]
  },
  {
   "cell_type": "code",
   "execution_count": 13,
   "id": "6f79d886",
   "metadata": {},
   "outputs": [
    {
     "name": "stdout",
     "output_type": "stream",
     "text": [
      "The original string is : Bidenadministration\n",
      "The splitted character's list is : ['B', 'i', 'd', 'e', 'n', 'a', 'd', 'm', 'i', 'n', 'i', 's', 't', 'r', 'a', 't', 'i', 'o', 'n']\n"
     ]
    }
   ],
   "source": [
    "# split string to character list\n",
    "# using map()\n",
    "  \n",
    "# initializing string\n",
    "test_string = 'Bidenadministration'\n",
    "  \n",
    "# printing the original string\n",
    "print (\"The original string is : \" + str(test_string))\n",
    "  \n",
    "# using map()\n",
    "# to split string to character list\n",
    "res = list(map(None, test_string))\n",
    "  \n",
    "# printing result\n",
    "print (\"The splitted character's list is : \" + str(res))"
   ]
  },
  {
   "cell_type": "code",
   "execution_count": null,
   "id": "2e02685e",
   "metadata": {},
   "outputs": [],
   "source": []
  }
 ],
 "metadata": {
  "kernelspec": {
   "display_name": "Python 3 (ipykernel)",
   "language": "python",
   "name": "python3"
  },
  "language_info": {
   "codemirror_mode": {
    "name": "ipython",
    "version": 3
   },
   "file_extension": ".py",
   "mimetype": "text/x-python",
   "name": "python",
   "nbconvert_exporter": "python",
   "pygments_lexer": "ipython3",
   "version": "3.8.12"
  }
 },
 "nbformat": 4,
 "nbformat_minor": 5
}
