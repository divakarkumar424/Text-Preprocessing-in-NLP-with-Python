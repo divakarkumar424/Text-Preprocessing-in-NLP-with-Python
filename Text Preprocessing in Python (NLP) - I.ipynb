{
 "cells": [
  {
   "cell_type": "markdown",
   "id": "b0db6251",
   "metadata": {},
   "source": [
    "### Text Preprocessing in Python - I\n",
    "\n",
    "<img src=\"https://user-images.githubusercontent.com/32620288/166104650-bca608ed-afc3-4c56-8bf2-eebf0b52b054.png\" width=\"400\" height=\"1\">\n",
    "\n",
    "----"
   ]
  },
  {
   "cell_type": "code",
   "execution_count": 1,
   "id": "e606a711",
   "metadata": {},
   "outputs": [],
   "source": [
    "# import the necessary libraries\n",
    "import nltk\n",
    "import string\n",
    "import re"
   ]
  },
  {
   "cell_type": "markdown",
   "id": "866a6af1",
   "metadata": {},
   "source": [
    "### Text Lowercase:\n",
    "We lowercase the text to reduce the size of the vocabulary of our text data."
   ]
  },
  {
   "cell_type": "code",
   "execution_count": 6,
   "id": "bf91b5bf",
   "metadata": {},
   "outputs": [
    {
     "data": {
      "text/plain": [
       "\"The Additional Directorate General of Public Information (ADGPI) under the Ministry of Defence announced through its official Twitter handle and said,General Manoj Pande, PVSM, AVSM, VSM, ADC takes over as the 29th COAS of Indian Army from General MM Naravane.General Pande was previously the army's vice chief, a charge he took in February when he replaced Lieutenant General CP Mohanty. Gen Pande was the head of the Eastern Army Command before becoming Vice Chief of the Army and was responsible for guarding the Line of Actual Control (LAC) in the Sikkim and Arunachal Pradesh sectors.\""
      ]
     },
     "execution_count": 6,
     "metadata": {},
     "output_type": "execute_result"
    }
   ],
   "source": [
    "#Text\n",
    "input_str = \"The Additional Directorate General of Public Information (ADGPI) under the Ministry of Defence announced through its official Twitter handle and said,General Manoj Pande, PVSM, AVSM, VSM, ADC takes over as the 29th COAS of Indian Army from General MM Naravane.General Pande was previously the army's vice chief, a charge he took in February when he replaced Lieutenant General CP Mohanty. Gen Pande was the head of the Eastern Army Command before becoming Vice Chief of the Army and was responsible for guarding the Line of Actual Control (LAC) in the Sikkim and Arunachal Pradesh sectors.\"\n",
    "input_str"
   ]
  },
  {
   "cell_type": "code",
   "execution_count": 8,
   "id": "d380f8af",
   "metadata": {},
   "outputs": [
    {
     "data": {
      "text/plain": [
       "'the women said 600 of the soldiers are wounded with some suffering from gangrene. they provided grisly videos and photos sent by their husbands of men with amputated limbs, bullet wounds and other injuries. they said people are eating porridge, old cheese and rudimentary bread.the azov regiment has its roots in the azov battalion which was formed in 2014 by far-right activists at the start of the conflict in the east between ukraine and moscow-backed separatists and which has elicited criticism for its tactics'"
      ]
     },
     "execution_count": 8,
     "metadata": {},
     "output_type": "execute_result"
    }
   ],
   "source": [
    "def text_lowercase(text):\n",
    "    return text.lower()\n",
    "\n",
    "text_lowercase(input_str)"
   ]
  },
  {
   "cell_type": "markdown",
   "id": "51eea42c",
   "metadata": {},
   "source": [
    "### Remove numbers:\n",
    "We can either remove numbers or convert the numbers into their textual representations. \n",
    "\n",
    "We can use regular expressions to remove the numbers. "
   ]
  },
  {
   "cell_type": "code",
   "execution_count": 7,
   "id": "dd440955",
   "metadata": {},
   "outputs": [
    {
     "data": {
      "text/plain": [
       "'The women said 600 of the soldiers are wounded with some suffering from gangrene. They provided grisly videos and photos sent by their husbands of men with amputated limbs, bullet wounds and other injuries. They said people are eating porridge, old cheese and rudimentary bread.The Azov Regiment has its roots in the Azov Battalion which was formed in 2014 by far-right activists at the start of the conflict in the east between Ukraine and Moscow-backed separatists and which has elicited criticism for its tactics'"
      ]
     },
     "execution_count": 7,
     "metadata": {},
     "output_type": "execute_result"
    }
   ],
   "source": [
    "input_str = \"The women said 600 of the soldiers are wounded with some suffering from gangrene. They provided grisly videos and photos sent by their husbands of men with amputated limbs, bullet wounds and other injuries. They said people are eating porridge, old cheese and rudimentary bread.The Azov Regiment has its roots in the Azov Battalion which was formed in 2014 by far-right activists at the start of the conflict in the east between Ukraine and Moscow-backed separatists and which has elicited criticism for its tactics\"\n",
    "input_str"
   ]
  },
  {
   "cell_type": "code",
   "execution_count": 9,
   "id": "3e3ea64a",
   "metadata": {},
   "outputs": [
    {
     "data": {
      "text/plain": [
       "'The women said  of the soldiers are wounded with some suffering from gangrene. They provided grisly videos and photos sent by their husbands of men with amputated limbs, bullet wounds and other injuries. They said people are eating porridge, old cheese and rudimentary bread.The Azov Regiment has its roots in the Azov Battalion which was formed in  by far-right activists at the start of the conflict in the east between Ukraine and Moscow-backed separatists and which has elicited criticism for its tactics'"
      ]
     },
     "execution_count": 9,
     "metadata": {},
     "output_type": "execute_result"
    }
   ],
   "source": [
    "# Remove numbers\n",
    "def remove_numbers(text):\n",
    "    result = re.sub(r'\\d+', '', text)\n",
    "    return result\n",
    " \n",
    "remove_numbers(input_str)"
   ]
  },
  {
   "cell_type": "markdown",
   "id": "fdac1232",
   "metadata": {},
   "source": [
    "##### We can also convert the numbers into words. This can be done by using the inflect library."
   ]
  },
  {
   "cell_type": "code",
   "execution_count": 12,
   "id": "eb8e38d4",
   "metadata": {},
   "outputs": [
    {
     "name": "stdout",
     "output_type": "stream",
     "text": [
      "Collecting inflectNote: you may need to restart the kernel to use updated packages.\n"
     ]
    },
    {
     "name": "stderr",
     "output_type": "stream",
     "text": [
      "WARNING: You are using pip version 22.0.3; however, version 22.0.4 is available.\n",
      "You should consider upgrading via the 'C:\\Users\\divak\\anaconda3\\python.exe -m pip install --upgrade pip' command.\n"
     ]
    },
    {
     "name": "stdout",
     "output_type": "stream",
     "text": [
      "\n",
      "  Downloading inflect-5.5.2-py3-none-any.whl (33 kB)\n",
      "Installing collected packages: inflect\n",
      "Successfully installed inflect-5.5.2\n"
     ]
    }
   ],
   "source": [
    "pip install inflect"
   ]
  },
  {
   "cell_type": "code",
   "execution_count": 13,
   "id": "ad381c28",
   "metadata": {},
   "outputs": [
    {
     "data": {
      "text/plain": [
       "'The women said 600 of the soldiers are wounded with some suffering from gangrene. They provided grisly videos and photos sent by their husbands of men with amputated limbs, bullet wounds and other injuries. They said people are eating porridge, old cheese and rudimentary bread.The Azov Regiment has its roots in the Azov Battalion which was formed in 2014 by far-right activists at the start of the conflict in the east between Ukraine and Moscow-backed separatists and which has elicited criticism for its tactics'"
      ]
     },
     "execution_count": 13,
     "metadata": {},
     "output_type": "execute_result"
    }
   ],
   "source": [
    "input_str = \"The women said 600 of the soldiers are wounded with some suffering from gangrene. They provided grisly videos and photos sent by their husbands of men with amputated limbs, bullet wounds and other injuries. They said people are eating porridge, old cheese and rudimentary bread.The Azov Regiment has its roots in the Azov Battalion which was formed in 2014 by far-right activists at the start of the conflict in the east between Ukraine and Moscow-backed separatists and which has elicited criticism for its tactics\"\n",
    "input_str"
   ]
  },
  {
   "cell_type": "code",
   "execution_count": 14,
   "id": "4093775b",
   "metadata": {},
   "outputs": [
    {
     "data": {
      "text/plain": [
       "'The women said six hundred of the soldiers are wounded with some suffering from gangrene. They provided grisly videos and photos sent by their husbands of men with amputated limbs, bullet wounds and other injuries. They said people are eating porridge, old cheese and rudimentary bread.The Azov Regiment has its roots in the Azov Battalion which was formed in two thousand and fourteen by far-right activists at the start of the conflict in the east between Ukraine and Moscow-backed separatists and which has elicited criticism for its tactics'"
      ]
     },
     "execution_count": 14,
     "metadata": {},
     "output_type": "execute_result"
    }
   ],
   "source": [
    "# import the inflect library\n",
    "import inflect\n",
    "p = inflect.engine()\n",
    " \n",
    "# convert number into words\n",
    "def convert_number(text):\n",
    "    # split string into list of words\n",
    "    temp_str = text.split()\n",
    "    # initialise empty list\n",
    "    new_string = []\n",
    " \n",
    "    for word in temp_str:\n",
    "        # if word is a digit, convert the digit\n",
    "        # to numbers and append into the new_string list\n",
    "        if word.isdigit():\n",
    "            temp = p.number_to_words(word)\n",
    "            new_string.append(temp)\n",
    " \n",
    "        # append the word as it is\n",
    "        else:\n",
    "            new_string.append(word)\n",
    " \n",
    "    # join the words of new_string to form a string\n",
    "    temp_str = ' '.join(new_string)\n",
    "    return temp_str\n",
    " \n",
    "\n",
    "convert_number(input_str)"
   ]
  },
  {
   "cell_type": "markdown",
   "id": "f73bb024",
   "metadata": {},
   "source": [
    "### Remove punctuation:\n",
    "We remove punctuations so that we don’t have different forms of the same word. If we don’t remove the punctuation, then been. been, been! will be treated separately."
   ]
  },
  {
   "cell_type": "code",
   "execution_count": 16,
   "id": "59995f18",
   "metadata": {},
   "outputs": [
    {
     "data": {
      "text/plain": [
       "\"Hey, did you know that the summer break is coming? Amazing right !! It's only 5 more days !!\""
      ]
     },
     "execution_count": 16,
     "metadata": {},
     "output_type": "execute_result"
    }
   ],
   "source": [
    "input_str= \"Hey, did you know that the summer break is coming? Amazing right !! It's only 5 more days !!\"\n",
    "input_str"
   ]
  },
  {
   "cell_type": "code",
   "execution_count": 17,
   "id": "78c009eb",
   "metadata": {},
   "outputs": [
    {
     "data": {
      "text/plain": [
       "'Hey did you know that the summer break is coming Amazing right  Its only 5 more days '"
      ]
     },
     "execution_count": 17,
     "metadata": {},
     "output_type": "execute_result"
    }
   ],
   "source": [
    "# remove punctuation\n",
    "def remove_punctuation(text):\n",
    "    translator = str.maketrans('', '', string.punctuation)\n",
    "    return text.translate(translator)\n",
    " \n",
    "remove_punctuation(input_str)"
   ]
  },
  {
   "cell_type": "markdown",
   "id": "960c3bd5",
   "metadata": {},
   "source": [
    "### Remove whitespaces:\n",
    "We can use the join and split function to remove all the white spaces in a string."
   ]
  },
  {
   "cell_type": "code",
   "execution_count": 18,
   "id": "29e3ab38",
   "metadata": {},
   "outputs": [
    {
     "data": {
      "text/plain": [
       "'Two Ukrainian women whose husbands are defending a besieged steel plant in the southern city of Mariupol are calling for any evacuation of civilians to also include soldiers, saying they fear the troops will be tortured and killed              if left behind and captured by Russian forces.'"
      ]
     },
     "execution_count": 18,
     "metadata": {},
     "output_type": "execute_result"
    }
   ],
   "source": [
    "input_str= \"Two Ukrainian women whose husbands are defending a besieged steel plant in the southern city of Mariupol are calling for any evacuation of civilians to also include soldiers, saying they fear the troops will be tortured and killed              if left behind and captured by Russian forces.\"\n",
    "input_str"
   ]
  },
  {
   "cell_type": "code",
   "execution_count": 19,
   "id": "b6ce3db9",
   "metadata": {},
   "outputs": [
    {
     "data": {
      "text/plain": [
       "'Two Ukrainian women whose husbands are defending a besieged steel plant in the southern city of Mariupol are calling for any evacuation of civilians to also include soldiers, saying they fear the troops will be tortured and killed if left behind and captured by Russian forces.'"
      ]
     },
     "execution_count": 19,
     "metadata": {},
     "output_type": "execute_result"
    }
   ],
   "source": [
    "# remove whitespace from text\n",
    "def remove_whitespace(text):\n",
    "    return  \" \".join(text.split())\n",
    " \n",
    "remove_whitespace(input_str)"
   ]
  },
  {
   "cell_type": "markdown",
   "id": "41d1dd8e",
   "metadata": {},
   "source": [
    "### Remove default stopwords:\n",
    "Stopwords are words that do not contribute to the meaning of a sentence. Hence, they can safely be removed without causing any change in the meaning of the sentence. The NLTK library has a set of stopwords and we can use these to remove stopwords from our text and return a list of word tokens."
   ]
  },
  {
   "attachments": {
    "image.png": {
     "image/png": "[encoded data removed]"
    }
   },
   "cell_type": "markdown",
   "id": "95c937f7",
   "metadata": {},
   "source": [
    "---------\n",
    "![image.png](attachment:image.png)\n",
    "\n",
    "------------"
   ]
  },
  {
   "cell_type": "code",
   "execution_count": 20,
   "id": "2e07df2c",
   "metadata": {},
   "outputs": [
    {
     "data": {
      "text/plain": [
       "'This is a sample sentence and we are going to remove the stopwords from this.'"
      ]
     },
     "execution_count": 20,
     "metadata": {},
     "output_type": "execute_result"
    }
   ],
   "source": [
    "example_text = \"This is a sample sentence and we are going to remove the stopwords from this.\"\n",
    "example_text"
   ]
  },
  {
   "cell_type": "code",
   "execution_count": 21,
   "id": "f7ab0701",
   "metadata": {},
   "outputs": [
    {
     "data": {
      "text/plain": [
       "['This', 'sample', 'sentence', 'going', 'remove', 'stopwords', '.']"
      ]
     },
     "execution_count": 21,
     "metadata": {},
     "output_type": "execute_result"
    }
   ],
   "source": [
    "from nltk.corpus import stopwords\n",
    "from nltk.tokenize import word_tokenize\n",
    " \n",
    "# remove stopwords function\n",
    "def remove_stopwords(text):\n",
    "    stop_words = set(stopwords.words(\"english\"))\n",
    "    word_tokens = word_tokenize(text)\n",
    "    filtered_text = [word for word in word_tokens if word not in stop_words]\n",
    "    return filtered_text\n",
    " \n",
    "example_text = \"This is a sample sentence and we are going to remove the stopwords from this.\"\n",
    "remove_stopwords(example_text)"
   ]
  },
  {
   "cell_type": "markdown",
   "id": "96a290b5",
   "metadata": {},
   "source": [
    "### Stemming:\n",
    "Stemming is the process of getting the root form of a word. Stem or root is the part to which inflectional affixes (-ed, -ize, -de, -s, etc.) are added. The stem of a word is created by removing the prefix or suffix of a word. So, stemming a word may not result in actual words."
   ]
  },
  {
   "cell_type": "markdown",
   "id": "b0d2a700",
   "metadata": {},
   "source": [
    "books      --->    book\n",
    "\n",
    "looked     --->    look\n",
    "\n",
    "denied     --->    deni\n",
    "\n",
    "flies      --->    fli"
   ]
  },
  {
   "cell_type": "markdown",
   "id": "92a848ba",
   "metadata": {},
   "source": [
    "If the text is not in tokens, then we need to convert it into tokens. After we have converted strings of text into tokens, we can convert the word tokens into their root form. There are mainly three algorithms for stemming. These are the Porter Stemmer, the Snowball Stemmer and the Lancaster Stemmer. Porter Stemmer is the most common among them."
   ]
  },
  {
   "cell_type": "code",
   "execution_count": 22,
   "id": "d4694952",
   "metadata": {},
   "outputs": [
    {
     "data": {
      "text/plain": [
       "\"Ukrainian forces fought Saturday to hold off a Russian advance in their country's south and east, where the Kremlin is seeking to capture the industrial Donbas region and Western military analysts said Moscow's offensive was going much slower than planned.\""
      ]
     },
     "execution_count": 22,
     "metadata": {},
     "output_type": "execute_result"
    }
   ],
   "source": [
    "text=\"Ukrainian forces fought Saturday to hold off a Russian advance in their country's south and east, where the Kremlin is seeking to capture the industrial Donbas region and Western military analysts said Moscow's offensive was going much slower than planned.\"\n",
    "text"
   ]
  },
  {
   "cell_type": "code",
   "execution_count": 23,
   "id": "242b8947",
   "metadata": {},
   "outputs": [
    {
     "data": {
      "text/plain": [
       "['ukrainian',\n",
       " 'forc',\n",
       " 'fought',\n",
       " 'saturday',\n",
       " 'to',\n",
       " 'hold',\n",
       " 'off',\n",
       " 'a',\n",
       " 'russian',\n",
       " 'advanc',\n",
       " 'in',\n",
       " 'their',\n",
       " 'countri',\n",
       " \"'s\",\n",
       " 'south',\n",
       " 'and',\n",
       " 'east',\n",
       " ',',\n",
       " 'where',\n",
       " 'the',\n",
       " 'kremlin',\n",
       " 'is',\n",
       " 'seek',\n",
       " 'to',\n",
       " 'captur',\n",
       " 'the',\n",
       " 'industri',\n",
       " 'donba',\n",
       " 'region',\n",
       " 'and',\n",
       " 'western',\n",
       " 'militari',\n",
       " 'analyst',\n",
       " 'said',\n",
       " 'moscow',\n",
       " \"'s\",\n",
       " 'offens',\n",
       " 'wa',\n",
       " 'go',\n",
       " 'much',\n",
       " 'slower',\n",
       " 'than',\n",
       " 'plan',\n",
       " '.']"
      ]
     },
     "execution_count": 23,
     "metadata": {},
     "output_type": "execute_result"
    }
   ],
   "source": [
    "from nltk.stem.porter import PorterStemmer\n",
    "from nltk.tokenize import word_tokenize\n",
    "stemmer = PorterStemmer()\n",
    " \n",
    "# stem words in the list of tokenized words\n",
    "def stem_words(text):\n",
    "    word_tokens = word_tokenize(text)\n",
    "    stems = [stemmer.stem(word) for word in word_tokens]\n",
    "    return stems\n",
    "stem_words(text)"
   ]
  },
  {
   "cell_type": "markdown",
   "id": "2ac67b1f",
   "metadata": {},
   "source": [
    "### Lemmatization:\n",
    "Like stemming, lemmatization also converts a word to its root form. The only difference is that lemmatization ensures that the root word belongs to the language. We will get valid words if we use lemmatization. In NLTK, we use the WordNetLemmatizer to get the lemmas of words. We also need to provide a context for the lemmatization. So, we add the part-of-speech as a parameter. "
   ]
  },
  {
   "cell_type": "code",
   "execution_count": 24,
   "id": "a06964ef",
   "metadata": {},
   "outputs": [
    {
     "data": {
      "text/plain": [
       "['Ukrainian',\n",
       " 'force',\n",
       " 'fight',\n",
       " 'Saturday',\n",
       " 'to',\n",
       " 'hold',\n",
       " 'off',\n",
       " 'a',\n",
       " 'Russian',\n",
       " 'advance',\n",
       " 'in',\n",
       " 'their',\n",
       " 'country',\n",
       " \"'s\",\n",
       " 'south',\n",
       " 'and',\n",
       " 'east',\n",
       " ',',\n",
       " 'where',\n",
       " 'the',\n",
       " 'Kremlin',\n",
       " 'be',\n",
       " 'seek',\n",
       " 'to',\n",
       " 'capture',\n",
       " 'the',\n",
       " 'industrial',\n",
       " 'Donbas',\n",
       " 'region',\n",
       " 'and',\n",
       " 'Western',\n",
       " 'military',\n",
       " 'analysts',\n",
       " 'say',\n",
       " 'Moscow',\n",
       " \"'s\",\n",
       " 'offensive',\n",
       " 'be',\n",
       " 'go',\n",
       " 'much',\n",
       " 'slower',\n",
       " 'than',\n",
       " 'plan',\n",
       " '.']"
      ]
     },
     "execution_count": 24,
     "metadata": {},
     "output_type": "execute_result"
    }
   ],
   "source": [
    "from nltk.stem import WordNetLemmatizer\n",
    "from nltk.tokenize import word_tokenize\n",
    "lemmatizer = WordNetLemmatizer()\n",
    "# lemmatize string\n",
    "def lemmatize_word(text):\n",
    "    word_tokens = word_tokenize(text)\n",
    "    # provide context i.e. part-of-speech\n",
    "    lemmas = [lemmatizer.lemmatize(word, pos ='v') for word in word_tokens]\n",
    "    return lemmas\n",
    " \n",
    "\n",
    "lemmatize_word(text)"
   ]
  },
  {
   "cell_type": "code",
   "execution_count": null,
   "id": "fd14be78",
   "metadata": {},
   "outputs": [],
   "source": []
  }
 ],
 "metadata": {
  "kernelspec": {
   "display_name": "Python 3 (ipykernel)",
   "language": "python",
   "name": "python3"
  },
  "language_info": {
   "codemirror_mode": {
    "name": "ipython",
    "version": 3
   },
   "file_extension": ".py",
   "mimetype": "text/x-python",
   "name": "python",
   "nbconvert_exporter": "python",
   "pygments_lexer": "ipython3",
   "version": "3.8.12"
  }
 },
 "nbformat": 4,
 "nbformat_minor": 5
}
