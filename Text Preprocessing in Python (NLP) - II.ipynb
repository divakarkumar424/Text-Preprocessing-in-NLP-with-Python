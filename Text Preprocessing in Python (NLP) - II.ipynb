{
 "cells": [
  {
   "cell_type": "markdown",
   "id": "0deffc51",
   "metadata": {},
   "source": [
    "### Text Preprocessing in Python - II\n",
    "\n",
    "<img src=\"https://user-images.githubusercontent.com/32620288/166104650-bca608ed-afc3-4c56-8bf2-eebf0b52b054.png\" width=\"400\" height=\"1\">\n",
    "\n",
    "*Divakar Kumar*\n",
    "\n",
    "----"
   ]
  },
  {
   "cell_type": "code",
   "execution_count": 4,
   "id": "4fff6c75",
   "metadata": {},
   "outputs": [],
   "source": [
    "# import the necessary libraries\n",
    "import nltk\n",
    "import string\n",
    "import re"
   ]
  },
  {
   "cell_type": "markdown",
   "id": "c8dceaee",
   "metadata": {},
   "source": [
    "### Part of Speech Tagging:\n",
    "The part of speech explains how a word is used in a sentence. In a sentence, a word can have different contexts and semantic meanings. The basic natural language processing models like bag-of-words fail to identify these relations between words. Hence, we use part of speech tagging to mark a word to its part of speech tag based on its context in the data. It is also used to extract relationships between words."
   ]
  },
  {
   "cell_type": "code",
   "execution_count": 5,
   "id": "cb720a2e",
   "metadata": {},
   "outputs": [
    {
     "data": {
      "text/plain": [
       "\"The Russia-Ukraine war has now entered day 66 with heavy shelling by invading troops along the entire line of contract in the Dobass region, east Ukraine. Meanwhile, dozens of people were injured in the blast that took off during UN Secretary-General Antonio Guterres' visit to Kyiv. On the other hand, Ukraine has accused Russia of robbing the occupied cities, leading to massive food insecurity\""
      ]
     },
     "execution_count": 5,
     "metadata": {},
     "output_type": "execute_result"
    }
   ],
   "source": [
    "text=\"The Russia-Ukraine war has now entered day 66 with heavy shelling by invading troops along the entire line of contract in the Dobass region, east Ukraine. Meanwhile, dozens of people were injured in the blast that took off during UN Secretary-General Antonio Guterres' visit to Kyiv. On the other hand, Ukraine has accused Russia of robbing the occupied cities, leading to massive food insecurity\"\n",
    "text"
   ]
  },
  {
   "cell_type": "code",
   "execution_count": 6,
   "id": "bfdaaffc",
   "metadata": {},
   "outputs": [
    {
     "data": {
      "text/plain": [
       "[('The', 'DT'),\n",
       " ('Russia-Ukraine', 'NNP'),\n",
       " ('war', 'NN'),\n",
       " ('has', 'VBZ'),\n",
       " ('now', 'RB'),\n",
       " ('entered', 'VBN'),\n",
       " ('day', 'NN'),\n",
       " ('66', 'CD'),\n",
       " ('with', 'IN'),\n",
       " ('heavy', 'JJ'),\n",
       " ('shelling', 'NN'),\n",
       " ('by', 'IN'),\n",
       " ('invading', 'VBG'),\n",
       " ('troops', 'NNS'),\n",
       " ('along', 'IN'),\n",
       " ('the', 'DT'),\n",
       " ('entire', 'JJ'),\n",
       " ('line', 'NN'),\n",
       " ('of', 'IN'),\n",
       " ('contract', 'NN'),\n",
       " ('in', 'IN'),\n",
       " ('the', 'DT'),\n",
       " ('Dobass', 'NNP'),\n",
       " ('region', 'NN'),\n",
       " (',', ','),\n",
       " ('east', 'JJ'),\n",
       " ('Ukraine', 'NNP'),\n",
       " ('.', '.'),\n",
       " ('Meanwhile', 'RB'),\n",
       " (',', ','),\n",
       " ('dozens', 'NNS'),\n",
       " ('of', 'IN'),\n",
       " ('people', 'NNS'),\n",
       " ('were', 'VBD'),\n",
       " ('injured', 'VBN'),\n",
       " ('in', 'IN'),\n",
       " ('the', 'DT'),\n",
       " ('blast', 'NN'),\n",
       " ('that', 'WDT'),\n",
       " ('took', 'VBD'),\n",
       " ('off', 'RP'),\n",
       " ('during', 'IN'),\n",
       " ('UN', 'NNP'),\n",
       " ('Secretary-General', 'NNP'),\n",
       " ('Antonio', 'NNP'),\n",
       " ('Guterres', 'NNP'),\n",
       " (\"'\", 'POS'),\n",
       " ('visit', 'NN'),\n",
       " ('to', 'TO'),\n",
       " ('Kyiv', 'NNP'),\n",
       " ('.', '.'),\n",
       " ('On', 'IN'),\n",
       " ('the', 'DT'),\n",
       " ('other', 'JJ'),\n",
       " ('hand', 'NN'),\n",
       " (',', ','),\n",
       " ('Ukraine', 'NNP'),\n",
       " ('has', 'VBZ'),\n",
       " ('accused', 'VBN'),\n",
       " ('Russia', 'NNP'),\n",
       " ('of', 'IN'),\n",
       " ('robbing', 'VBG'),\n",
       " ('the', 'DT'),\n",
       " ('occupied', 'JJ'),\n",
       " ('cities', 'NNS'),\n",
       " (',', ','),\n",
       " ('leading', 'VBG'),\n",
       " ('to', 'TO'),\n",
       " ('massive', 'VB'),\n",
       " ('food', 'NN'),\n",
       " ('insecurity', 'NN')]"
      ]
     },
     "execution_count": 6,
     "metadata": {},
     "output_type": "execute_result"
    }
   ],
   "source": [
    "from nltk.tokenize import word_tokenize\n",
    "from nltk import pos_tag\n",
    "  \n",
    "# convert text into word_tokens with their tags\n",
    "def pos_tagging(text):\n",
    "    word_tokens = word_tokenize(text)\n",
    "    return pos_tag(word_tokens)\n",
    "  \n",
    "pos_tagging(\"The Russia-Ukraine war has now entered day 66 with heavy shelling by invading troops along the entire line of contract in the Dobass region, east Ukraine. Meanwhile, dozens of people were injured in the blast that took off during UN Secretary-General Antonio Guterres' visit to Kyiv. On the other hand, Ukraine has accused Russia of robbing the occupied cities, leading to massive food insecurity\")"
   ]
  },
  {
   "cell_type": "markdown",
   "id": "1a3714bc",
   "metadata": {},
   "source": [
    "\n",
    "\n",
    "<img src=\"https://user-images.githubusercontent.com/32620288/166105128-d714cb89-3f6c-46b4-8e1e-a770d47498b9.png\" width=\"600\" height=\"1\">"
   ]
  },
  {
   "cell_type": "code",
   "execution_count": 7,
   "id": "5be61adf",
   "metadata": {},
   "outputs": [
    {
     "name": "stdout",
     "output_type": "stream",
     "text": [
      "NN: noun, common, singular or mass\n",
      "    common-carrier cabbage knuckle-duster Casino afghan shed thermostat\n",
      "    investment slide humour falloff slick wind hyena override subhumanity\n",
      "    machinist ...\n"
     ]
    },
    {
     "name": "stderr",
     "output_type": "stream",
     "text": [
      "[nltk_data] Downloading package tagsets to\n",
      "[nltk_data]     C:\\Users\\divak\\AppData\\Roaming\\nltk_data...\n",
      "[nltk_data]   Package tagsets is already up-to-date!\n"
     ]
    }
   ],
   "source": [
    "# download the tagset \n",
    "nltk.download('tagsets')\n",
    "  \n",
    "# extract information about the tag\n",
    "nltk.help.upenn_tagset('NN')"
   ]
  },
  {
   "cell_type": "markdown",
   "id": "ac3f36ea",
   "metadata": {},
   "source": [
    "### Chunking:\n",
    "Chunking is the process of extracting phrases from unstructured text and more structure to it. It is also known as shallow parsing. It is done on top of Part of Speech tagging. It groups word into “chunks”, mainly of noun phrases. Chunking is done using regular expressions."
   ]
  },
  {
   "cell_type": "code",
   "execution_count": 8,
   "id": "efc206d8",
   "metadata": {},
   "outputs": [
    {
     "data": {
      "text/plain": [
       "'Sri Lankas Opposition To Bring No-confidence Motion Against Govt Amid Economic Turbulence'"
      ]
     },
     "execution_count": 8,
     "metadata": {},
     "output_type": "execute_result"
    }
   ],
   "source": [
    "sentence = 'Sri Lankas Opposition To Bring No-confidence Motion Against Govt Amid Economic Turbulence'\n",
    "sentence"
   ]
  },
  {
   "cell_type": "code",
   "execution_count": null,
   "id": "4d9fd899",
   "metadata": {},
   "outputs": [
    {
     "name": "stdout",
     "output_type": "stream",
     "text": [
      "(S\n",
      "  Sri/NNP\n",
      "  Lankas/NNP\n",
      "  Opposition/NNP\n",
      "  To/TO\n",
      "  Bring/VB\n",
      "  No-confidence/NNP\n",
      "  Motion/NNP\n",
      "  Against/NNP\n",
      "  Govt/NNP\n",
      "  Amid/NNP\n",
      "  Economic/NNP\n",
      "  (NP Turbulence/NN))\n",
      "(NP Turbulence/NN)\n"
     ]
    }
   ],
   "source": [
    "from nltk.tokenize import word_tokenize \n",
    "from nltk import pos_tag\n",
    "  \n",
    "# define chunking function with text and regular\n",
    "# expression representing grammar as parameter\n",
    "def chunking(text, grammar):\n",
    "    word_tokens = word_tokenize(text)\n",
    "  \n",
    "    # label words with part of speech\n",
    "    word_pos = pos_tag(word_tokens)\n",
    "  \n",
    "    # create a chunk parser using grammar\n",
    "    chunkParser = nltk.RegexpParser(grammar)\n",
    "  \n",
    "    # test it on the list of word tokens with tagged pos\n",
    "    tree = chunkParser.parse(word_pos)\n",
    "      \n",
    "    for subtree in tree.subtrees():\n",
    "        print(subtree)\n",
    "    tree.draw()\n",
    "      \n",
    "grammar = \"NP: {<DT>?<JJ>*<NN>}\"\n",
    "chunking(sentence, grammar)"
   ]
  },
  {
   "cell_type": "markdown",
   "id": "58d3f9e7",
   "metadata": {},
   "source": [
    "In the given example, grammar, which is defined using a simple regular expression rule. This rule says that an NP (Noun Phrase) chunk should be formed whenever the chunker finds an optional determiner (DT) followed by any number of adjectives (JJ) and then a noun (NN).\n",
    "\n",
    "###### Libraries like spaCy and Textblob are more suited for chunking."
   ]
  },
  {
   "cell_type": "markdown",
   "id": "c913abab",
   "metadata": {},
   "source": [
    "![image](https://user-images.githubusercontent.com/32620288/166138721-0e6384ef-009a-4f8f-a3eb-51c0dc22a026.png)"
   ]
  },
  {
   "cell_type": "markdown",
   "id": "aa405734",
   "metadata": {},
   "source": [
    "### Named Entity Recognition:\n",
    "Named Entity Recognition is used to extract information from unstructured text. It is used to classify entities present in a text into categories like a person, organization, event, places, etc. It gives us detailed knowledge about the text and the relationships between the different entities."
   ]
  },
  {
   "cell_type": "code",
   "execution_count": 1,
   "id": "b0cc6ada",
   "metadata": {},
   "outputs": [
    {
     "data": {
      "text/plain": [
       "\"Sri Lanka's leader of Opposition and Samagi Jana Balawegaya (SJB) leader Sajith Premadasa announced bringing a no-confidence motion against the incumbent govt.\""
      ]
     },
     "execution_count": 1,
     "metadata": {},
     "output_type": "execute_result"
    }
   ],
   "source": [
    "text=\"Sri Lanka's leader of Opposition and Samagi Jana Balawegaya (SJB) leader Sajith Premadasa announced bringing a no-confidence motion against the incumbent govt.\"\n",
    "text"
   ]
  },
  {
   "cell_type": "code",
   "execution_count": 3,
   "id": "18c975b3",
   "metadata": {},
   "outputs": [
    {
     "name": "stdout",
     "output_type": "stream",
     "text": [
      "(S\n",
      "  (PERSON Sri/NNP)\n",
      "  (PERSON Lanka/NNP)\n",
      "  's/POS\n",
      "  leader/NN\n",
      "  of/IN\n",
      "  (ORGANIZATION Opposition/NNP)\n",
      "  and/CC\n",
      "  (PERSON Samagi/NNP Jana/NNP Balawegaya/NNP)\n",
      "  (/(\n",
      "  (ORGANIZATION SJB/NNP)\n",
      "  )/)\n",
      "  leader/NN\n",
      "  (PERSON Sajith/NNP Premadasa/NNP)\n",
      "  announced/VBD\n",
      "  bringing/VBG\n",
      "  a/DT\n",
      "  no-confidence/JJ\n",
      "  motion/NN\n",
      "  against/IN\n",
      "  the/DT\n",
      "  incumbent/JJ\n",
      "  govt/NN\n",
      "  ./.)\n"
     ]
    },
    {
     "name": "stderr",
     "output_type": "stream",
     "text": [
      "[nltk_data] Downloading package maxent_ne_chunker to\n",
      "[nltk_data]     C:\\Users\\divak\\AppData\\Roaming\\nltk_data...\n",
      "[nltk_data]   Package maxent_ne_chunker is already up-to-date!\n",
      "[nltk_data] Downloading package words to\n",
      "[nltk_data]     C:\\Users\\divak\\AppData\\Roaming\\nltk_data...\n",
      "[nltk_data]   Package words is already up-to-date!\n"
     ]
    }
   ],
   "source": [
    "from nltk.tokenize import word_tokenize\n",
    "from nltk import pos_tag, ne_chunk\n",
    "import nltk\n",
    "nltk.download('maxent_ne_chunker')\n",
    "nltk.download('words')\n",
    "  \n",
    "def named_entity_recognition(text):\n",
    "    # tokenize the text\n",
    "    word_tokens = word_tokenize(text)\n",
    "  \n",
    "    # part of speech tagging of words\n",
    "    word_pos = pos_tag(word_tokens)\n",
    "  \n",
    "    # tree of word entities\n",
    "    print(ne_chunk(word_pos))\n",
    "  \n",
    "named_entity_recognition(text)"
   ]
  },
  {
   "cell_type": "code",
   "execution_count": null,
   "id": "bb5753f0",
   "metadata": {},
   "outputs": [],
   "source": []
  }
 ],
 "metadata": {
  "kernelspec": {
   "display_name": "Python 3 (ipykernel)",
   "language": "python",
   "name": "python3"
  },
  "language_info": {
   "codemirror_mode": {
    "name": "ipython",
    "version": 3
   },
   "file_extension": ".py",
   "mimetype": "text/x-python",
   "name": "python",
   "nbconvert_exporter": "python",
   "pygments_lexer": "ipython3",
   "version": "3.8.12"
  }
 },
 "nbformat": 4,
 "nbformat_minor": 5
}
