{
 "cells": [
  {
   "cell_type": "code",
   "execution_count": 8,
   "id": "200a5ce0",
   "metadata": {},
   "outputs": [],
   "source": [
    "## Import Library\n",
    "import os"
   ]
  },
  {
   "cell_type": "code",
   "execution_count": 9,
   "id": "380b1cf8",
   "metadata": {},
   "outputs": [
    {
     "data": {
      "text/plain": [
       "'C:\\\\Users\\\\divak'"
      ]
     },
     "execution_count": 9,
     "metadata": {},
     "output_type": "execute_result"
    }
   ],
   "source": [
    "# Check working directory\n",
    "os.getcwd()"
   ]
  },
  {
   "cell_type": "code",
   "execution_count": 10,
   "id": "92feb27a",
   "metadata": {},
   "outputs": [],
   "source": [
    "# load the text data or text file\n",
    "text_file = open('text.txt', 'r')"
   ]
  },
  {
   "cell_type": "code",
   "execution_count": 11,
   "id": "9f995d97",
   "metadata": {},
   "outputs": [
    {
     "data": {
      "text/plain": [
       "_io.TextIOWrapper"
      ]
     },
     "execution_count": 11,
     "metadata": {},
     "output_type": "execute_result"
    }
   ],
   "source": [
    "# Check datatype\n",
    "type(text_file)"
   ]
  },
  {
   "cell_type": "markdown",
   "id": "ae27de42",
   "metadata": {},
   "source": [
    "## Read the text file or text data"
   ]
  },
  {
   "cell_type": "code",
   "execution_count": 12,
   "id": "718811b3",
   "metadata": {},
   "outputs": [
    {
     "data": {
      "text/plain": [
       "\"Coronaviruses are a group of related RNA viruses that cause diseases in mammals and birds. In humans, these viruses cause respiratory tract infections that can range from mild to lethal. Mild illnesses include some cases of the common cold (which is also caused by other viruses, predominantly rhinoviruses), while more lethal varieties can cause SARS, MERS, and COVID-19. Symptoms in other species vary: in chickens, they cause an upper respiratory tract disease, while in cows and pigs they cause diarrhea. There are as yet no vaccines or antiviral drugs to prevent or treat human coronavirus infections.\\n\\nCoronaviruses constitute the subfamily Orthocoronavirinae, in the family Coronaviridae, order Nidovirales, and realm Riboviria.[5][6] They are enveloped viruses with a positive-sense single-stranded RNA genome and a nucleocapsid of helical symmetry.[7] The genome size of coronaviruses ranges from approximately 26 to 32 kilobases, one of the largest among RNA viruses.[8] They have characteristic club-shaped spikes that project from their surface, which in electron micrographs create an image reminiscent of the solar corona, from which their name derives.[9]\\n\\nCoronaviruses were first discovered in the 1930s when an acute respiratory infection of domesticated chickens was shown to be caused by infectious bronchitis virus (IBV).[14] Arthur Schalk and M.C. Hawn described in 1931 a new respiratory infection of chickens in North Dakota. The infection of new-born chicks was characterized by gasping and listlessness. The chicks' mortality rate was 40â€“90%.[15] Fred Beaudette and Charles Hudson six years later successfully isolated and cultivated the infectious bronchitis virus which caused the disease.[16] In the 1940s, two more animal coronaviruses, mouse hepatitis virus (MHV) and transmissible gastroenteritis virus (TGEV), were isolated.[17] It was not realized at the time that these three different viruses were related.[18]\\n\\nHuman coronaviruses were discovered in the 1960s.[19][20] They were isolated using two different methods in the United Kingdom and the United States.[21] E.C. Kendall, Malcom Byone, and David Tyrrell working at the Common Cold Unit of the British Medical Research Council in 1960 isolated from a boy a novel common cold virus B814.[22][23][24] The virus was not able to be cultivated using standard techniques which had successfully cultivated rhinoviruses, adenoviruses and other known common cold viruses. In 1965, Tyrrell and Byone successfully cultivated the novel virus by serially passing it through organ culture of human embryonic trachea.[25] The new cultivating method was introduced to the lab by Bertil Hoorn.[26] The isolated virus when intranasally inoculated into volunteers caused a cold and was inactivated by ether which indicated it had a lipid envelope.[22][27] Around the same time, Dorothy Hamre[28] and John Procknow at the University of Chicago isolated a novel cold virus 229E from medical students, which they grew in kidney tissue culture. The novel virus 229E, like the virus strain B814, when inoculated into volunteers caused a cold and was inactivated by ether.[29]\\n\\nThe two novel strains B814 and 229E were subsequently imaged by electron microscopy in 1967 by Scottish virologist June Almeida at St. Thomas Hospital in London.[30][31] Almeida through electron microscopy was able to show that B814 and 229E were morphologically related by their distinctive club-like spikes. Not only were they related with each other, but they were morphologically related to infectious bronchitis virus (IBV).[32] A research group at the National Institute of Health the same year was able to isolate another member of this new group of viruses using organ culture and named the virus strain OC43 (OC for organ culture).[33] Like B814, 229E, and IBV, the novel cold virus OC43 had distinctive club-like spikes when observed with the electron microscope.[34][35]\\n\\nThe IBV-like novel cold viruses were soon shown to be also morphologically related to the mouse hepatitis virus.[17] This new group of IBV-like viruses came to be known as coronaviruses after their distinctive morphological appearance.[9] Human coronavirus 229E and human coronavirus OC43 continued to be studied in subsequent decades.[36][37] The coronavirus strain B814 was lost. It is not known which present human coronavirus it was.[38] Other human coronaviruses have since been identified, including SARS-CoV in 2003, HCoV NL63 in 2004, HCoV HKU1 in 2005, MERS-CoV in 2012, and SARS-CoV-2 in 2019.[39][40] There have also been a large number of animal coronaviruses identified since the 1960s.[5]\""
      ]
     },
     "execution_count": 12,
     "metadata": {},
     "output_type": "execute_result"
    }
   ],
   "source": [
    "text = text_file.read()\n",
    "text"
   ]
  },
  {
   "cell_type": "markdown",
   "id": "088ace23",
   "metadata": {},
   "source": [
    "## Breaking down large piece of text data into paragraphs"
   ]
  },
  {
   "cell_type": "code",
   "execution_count": 13,
   "id": "17916ce5",
   "metadata": {},
   "outputs": [
    {
     "name": "stdout",
     "output_type": "stream",
     "text": [
      "['Coronaviruses are a group of related RNA viruses that cause diseases in mammals and birds. In humans, these viruses cause respiratory tract infections that can range from mild to lethal. Mild illnesses include some cases of the common cold (which is also caused by other viruses, predominantly rhinoviruses), while more lethal varieties can cause SARS, MERS, and COVID-19. Symptoms in other species vary: in chickens, they cause an upper respiratory tract disease, while in cows and pigs they cause diarrhea. There are as yet no vaccines or antiviral drugs to prevent or treat human coronavirus infections.', '', 'Coronaviruses constitute the subfamily Orthocoronavirinae, in the family Coronaviridae, order Nidovirales, and realm Riboviria.[5][6] They are enveloped viruses with a positive-sense single-stranded RNA genome and a nucleocapsid of helical symmetry.[7] The genome size of coronaviruses ranges from approximately 26 to 32 kilobases, one of the largest among RNA viruses.[8] They have characteristic club-shaped spikes that project from their surface, which in electron micrographs create an image reminiscent of the solar corona, from which their name derives.[9]', '', \"Coronaviruses were first discovered in the 1930s when an acute respiratory infection of domesticated chickens was shown to be caused by infectious bronchitis virus (IBV).[14] Arthur Schalk and M.C. Hawn described in 1931 a new respiratory infection of chickens in North Dakota. The infection of new-born chicks was characterized by gasping and listlessness. The chicks' mortality rate was 40â€“90%.[15] Fred Beaudette and Charles Hudson six years later successfully isolated and cultivated the infectious bronchitis virus which caused the disease.[16] In the 1940s, two more animal coronaviruses, mouse hepatitis virus (MHV) and transmissible gastroenteritis virus (TGEV), were isolated.[17] It was not realized at the time that these three different viruses were related.[18]\", '', 'Human coronaviruses were discovered in the 1960s.[19][20] They were isolated using two different methods in the United Kingdom and the United States.[21] E.C. Kendall, Malcom Byone, and David Tyrrell working at the Common Cold Unit of the British Medical Research Council in 1960 isolated from a boy a novel common cold virus B814.[22][23][24] The virus was not able to be cultivated using standard techniques which had successfully cultivated rhinoviruses, adenoviruses and other known common cold viruses. In 1965, Tyrrell and Byone successfully cultivated the novel virus by serially passing it through organ culture of human embryonic trachea.[25] The new cultivating method was introduced to the lab by Bertil Hoorn.[26] The isolated virus when intranasally inoculated into volunteers caused a cold and was inactivated by ether which indicated it had a lipid envelope.[22][27] Around the same time, Dorothy Hamre[28] and John Procknow at the University of Chicago isolated a novel cold virus 229E from medical students, which they grew in kidney tissue culture. The novel virus 229E, like the virus strain B814, when inoculated into volunteers caused a cold and was inactivated by ether.[29]', '', 'The two novel strains B814 and 229E were subsequently imaged by electron microscopy in 1967 by Scottish virologist June Almeida at St. Thomas Hospital in London.[30][31] Almeida through electron microscopy was able to show that B814 and 229E were morphologically related by their distinctive club-like spikes. Not only were they related with each other, but they were morphologically related to infectious bronchitis virus (IBV).[32] A research group at the National Institute of Health the same year was able to isolate another member of this new group of viruses using organ culture and named the virus strain OC43 (OC for organ culture).[33] Like B814, 229E, and IBV, the novel cold virus OC43 had distinctive club-like spikes when observed with the electron microscope.[34][35]', '', 'The IBV-like novel cold viruses were soon shown to be also morphologically related to the mouse hepatitis virus.[17] This new group of IBV-like viruses came to be known as coronaviruses after their distinctive morphological appearance.[9] Human coronavirus 229E and human coronavirus OC43 continued to be studied in subsequent decades.[36][37] The coronavirus strain B814 was lost. It is not known which present human coronavirus it was.[38] Other human coronaviruses have since been identified, including SARS-CoV in 2003, HCoV NL63 in 2004, HCoV HKU1 in 2005, MERS-CoV in 2012, and SARS-CoV-2 in 2019.[39][40] There have also been a large number of animal coronaviruses identified since the 1960s.[5]']\n"
     ]
    }
   ],
   "source": [
    "text_paragraphs = text.split('\\n')\n",
    "print(text_paragraphs)"
   ]
  },
  {
   "cell_type": "code",
   "execution_count": 14,
   "id": "793af2d3",
   "metadata": {},
   "outputs": [
    {
     "data": {
      "text/plain": [
       "11"
      ]
     },
     "execution_count": 14,
     "metadata": {},
     "output_type": "execute_result"
    }
   ],
   "source": [
    "# Check the lengtho of paragraphs\n",
    "len(text_paragraphs)"
   ]
  },
  {
   "cell_type": "markdown",
   "id": "641c78c4",
   "metadata": {},
   "source": [
    "## List Comprehension"
   ]
  },
  {
   "cell_type": "code",
   "execution_count": 15,
   "id": "af6a8e75",
   "metadata": {},
   "outputs": [
    {
     "data": {
      "text/plain": [
       "['Coronaviruses are a group of related RNA viruses that cause diseases in mammals and birds. In humans, these viruses cause respiratory tract infections that can range from mild to lethal. Mild illnesses include some cases of the common cold (which is also caused by other viruses, predominantly rhinoviruses), while more lethal varieties can cause SARS, MERS, and COVID-19. Symptoms in other species vary: in chickens, they cause an upper respiratory tract disease, while in cows and pigs they cause diarrhea. There are as yet no vaccines or antiviral drugs to prevent or treat human coronavirus infections.',\n",
       " 'Coronaviruses constitute the subfamily Orthocoronavirinae, in the family Coronaviridae, order Nidovirales, and realm Riboviria.[5][6] They are enveloped viruses with a positive-sense single-stranded RNA genome and a nucleocapsid of helical symmetry.[7] The genome size of coronaviruses ranges from approximately 26 to 32 kilobases, one of the largest among RNA viruses.[8] They have characteristic club-shaped spikes that project from their surface, which in electron micrographs create an image reminiscent of the solar corona, from which their name derives.[9]',\n",
       " \"Coronaviruses were first discovered in the 1930s when an acute respiratory infection of domesticated chickens was shown to be caused by infectious bronchitis virus (IBV).[14] Arthur Schalk and M.C. Hawn described in 1931 a new respiratory infection of chickens in North Dakota. The infection of new-born chicks was characterized by gasping and listlessness. The chicks' mortality rate was 40â€“90%.[15] Fred Beaudette and Charles Hudson six years later successfully isolated and cultivated the infectious bronchitis virus which caused the disease.[16] In the 1940s, two more animal coronaviruses, mouse hepatitis virus (MHV) and transmissible gastroenteritis virus (TGEV), were isolated.[17] It was not realized at the time that these three different viruses were related.[18]\",\n",
       " 'Human coronaviruses were discovered in the 1960s.[19][20] They were isolated using two different methods in the United Kingdom and the United States.[21] E.C. Kendall, Malcom Byone, and David Tyrrell working at the Common Cold Unit of the British Medical Research Council in 1960 isolated from a boy a novel common cold virus B814.[22][23][24] The virus was not able to be cultivated using standard techniques which had successfully cultivated rhinoviruses, adenoviruses and other known common cold viruses. In 1965, Tyrrell and Byone successfully cultivated the novel virus by serially passing it through organ culture of human embryonic trachea.[25] The new cultivating method was introduced to the lab by Bertil Hoorn.[26] The isolated virus when intranasally inoculated into volunteers caused a cold and was inactivated by ether which indicated it had a lipid envelope.[22][27] Around the same time, Dorothy Hamre[28] and John Procknow at the University of Chicago isolated a novel cold virus 229E from medical students, which they grew in kidney tissue culture. The novel virus 229E, like the virus strain B814, when inoculated into volunteers caused a cold and was inactivated by ether.[29]',\n",
       " 'The two novel strains B814 and 229E were subsequently imaged by electron microscopy in 1967 by Scottish virologist June Almeida at St. Thomas Hospital in London.[30][31] Almeida through electron microscopy was able to show that B814 and 229E were morphologically related by their distinctive club-like spikes. Not only were they related with each other, but they were morphologically related to infectious bronchitis virus (IBV).[32] A research group at the National Institute of Health the same year was able to isolate another member of this new group of viruses using organ culture and named the virus strain OC43 (OC for organ culture).[33] Like B814, 229E, and IBV, the novel cold virus OC43 had distinctive club-like spikes when observed with the electron microscope.[34][35]',\n",
       " 'The IBV-like novel cold viruses were soon shown to be also morphologically related to the mouse hepatitis virus.[17] This new group of IBV-like viruses came to be known as coronaviruses after their distinctive morphological appearance.[9] Human coronavirus 229E and human coronavirus OC43 continued to be studied in subsequent decades.[36][37] The coronavirus strain B814 was lost. It is not known which present human coronavirus it was.[38] Other human coronaviruses have since been identified, including SARS-CoV in 2003, HCoV NL63 in 2004, HCoV HKU1 in 2005, MERS-CoV in 2012, and SARS-CoV-2 in 2019.[39][40] There have also been a large number of animal coronaviruses identified since the 1960s.[5]']"
      ]
     },
     "execution_count": 15,
     "metadata": {},
     "output_type": "execute_result"
    }
   ],
   "source": [
    "new_para = [text for text in text_paragraphs if len(text)>5]\n",
    "new_para"
   ]
  },
  {
   "cell_type": "code",
   "execution_count": 16,
   "id": "5073ec15",
   "metadata": {},
   "outputs": [
    {
     "data": {
      "text/plain": [
       "6"
      ]
     },
     "execution_count": 16,
     "metadata": {},
     "output_type": "execute_result"
    }
   ],
   "source": [
    "len(new_para)"
   ]
  },
  {
   "cell_type": "markdown",
   "id": "ca966cac",
   "metadata": {},
   "source": [
    "## Word Tokenization"
   ]
  },
  {
   "cell_type": "code",
   "execution_count": 18,
   "id": "27826d84",
   "metadata": {},
   "outputs": [],
   "source": [
    "para = 'Coronaviruses are a group of related RNA viruses that cause diseases in mammals and birds. In humans, these viruses cause respiratory tract infections that can range from mild to lethal. Mild illnesses include some cases of the common cold (which is also caused by other viruses, predominantly rhinoviruses), while more lethal varieties can cause SARS, MERS, and COVID-19. Symptoms in other species vary: in chickens, they cause an upper respiratory tract disease, while in cows and pigs they cause diarrhea. There are as yet no vaccines or antiviral drugs to prevent or treat human coronavirus infections.'"
   ]
  },
  {
   "cell_type": "code",
   "execution_count": 19,
   "id": "b6cc9ee2",
   "metadata": {},
   "outputs": [],
   "source": [
    "from nltk import word_tokenize"
   ]
  },
  {
   "cell_type": "code",
   "execution_count": 20,
   "id": "f2cf2f56",
   "metadata": {},
   "outputs": [
    {
     "data": {
      "text/plain": [
       "['Coronaviruses',\n",
       " 'are',\n",
       " 'a',\n",
       " 'group',\n",
       " 'of',\n",
       " 'related',\n",
       " 'RNA',\n",
       " 'viruses',\n",
       " 'that',\n",
       " 'cause',\n",
       " 'diseases',\n",
       " 'in',\n",
       " 'mammals',\n",
       " 'and',\n",
       " 'birds',\n",
       " '.',\n",
       " 'In',\n",
       " 'humans',\n",
       " ',',\n",
       " 'these',\n",
       " 'viruses',\n",
       " 'cause',\n",
       " 'respiratory',\n",
       " 'tract',\n",
       " 'infections',\n",
       " 'that',\n",
       " 'can',\n",
       " 'range',\n",
       " 'from',\n",
       " 'mild',\n",
       " 'to',\n",
       " 'lethal',\n",
       " '.',\n",
       " 'Mild',\n",
       " 'illnesses',\n",
       " 'include',\n",
       " 'some',\n",
       " 'cases',\n",
       " 'of',\n",
       " 'the',\n",
       " 'common',\n",
       " 'cold',\n",
       " '(',\n",
       " 'which',\n",
       " 'is',\n",
       " 'also',\n",
       " 'caused',\n",
       " 'by',\n",
       " 'other',\n",
       " 'viruses',\n",
       " ',',\n",
       " 'predominantly',\n",
       " 'rhinoviruses',\n",
       " ')',\n",
       " ',',\n",
       " 'while',\n",
       " 'more',\n",
       " 'lethal',\n",
       " 'varieties',\n",
       " 'can',\n",
       " 'cause',\n",
       " 'SARS',\n",
       " ',',\n",
       " 'MERS',\n",
       " ',',\n",
       " 'and',\n",
       " 'COVID-19',\n",
       " '.',\n",
       " 'Symptoms',\n",
       " 'in',\n",
       " 'other',\n",
       " 'species',\n",
       " 'vary',\n",
       " ':',\n",
       " 'in',\n",
       " 'chickens',\n",
       " ',',\n",
       " 'they',\n",
       " 'cause',\n",
       " 'an',\n",
       " 'upper',\n",
       " 'respiratory',\n",
       " 'tract',\n",
       " 'disease',\n",
       " ',',\n",
       " 'while',\n",
       " 'in',\n",
       " 'cows',\n",
       " 'and',\n",
       " 'pigs',\n",
       " 'they',\n",
       " 'cause',\n",
       " 'diarrhea',\n",
       " '.',\n",
       " 'There',\n",
       " 'are',\n",
       " 'as',\n",
       " 'yet',\n",
       " 'no',\n",
       " 'vaccines',\n",
       " 'or',\n",
       " 'antiviral',\n",
       " 'drugs',\n",
       " 'to',\n",
       " 'prevent',\n",
       " 'or',\n",
       " 'treat',\n",
       " 'human',\n",
       " 'coronavirus',\n",
       " 'infections',\n",
       " '.']"
      ]
     },
     "execution_count": 20,
     "metadata": {},
     "output_type": "execute_result"
    }
   ],
   "source": [
    "word_token = word_tokenize(para)\n",
    "word_token"
   ]
  },
  {
   "cell_type": "code",
   "execution_count": 21,
   "id": "273a3223",
   "metadata": {},
   "outputs": [
    {
     "data": {
      "text/plain": [
       "111"
      ]
     },
     "execution_count": 21,
     "metadata": {},
     "output_type": "execute_result"
    }
   ],
   "source": [
    "len(word_token)"
   ]
  },
  {
   "cell_type": "markdown",
   "id": "085d621a",
   "metadata": {},
   "source": [
    "## StopWords"
   ]
  },
  {
   "cell_type": "code",
   "execution_count": 22,
   "id": "5d5dbd1d",
   "metadata": {},
   "outputs": [],
   "source": [
    "# Import Library\n",
    "from nltk.corpus import stopwords"
   ]
  },
  {
   "cell_type": "code",
   "execution_count": 23,
   "id": "3df73ac9",
   "metadata": {},
   "outputs": [],
   "source": [
    "stop_words = set(stopwords.words('english'))"
   ]
  },
  {
   "cell_type": "code",
   "execution_count": 24,
   "id": "8d78bcc1",
   "metadata": {},
   "outputs": [],
   "source": [
    "stop_words.update(['.', ',', '\"', \"'\", '?', '!', ':', ';', '(', ')', '[', ']', '{', '}']) # remove it if you need punctuation"
   ]
  },
  {
   "cell_type": "code",
   "execution_count": 25,
   "id": "fbd58edd",
   "metadata": {},
   "outputs": [
    {
     "data": {
      "text/plain": [
       "['Coronaviruses',\n",
       " 'group',\n",
       " 'related',\n",
       " 'RNA',\n",
       " 'viruses',\n",
       " 'cause',\n",
       " 'diseases',\n",
       " 'mammals',\n",
       " 'birds',\n",
       " 'In',\n",
       " 'humans',\n",
       " 'viruses',\n",
       " 'cause',\n",
       " 'respiratory',\n",
       " 'tract',\n",
       " 'infections',\n",
       " 'range',\n",
       " 'mild',\n",
       " 'lethal',\n",
       " 'Mild',\n",
       " 'illnesses',\n",
       " 'include',\n",
       " 'cases',\n",
       " 'common',\n",
       " 'cold',\n",
       " 'also',\n",
       " 'caused',\n",
       " 'viruses',\n",
       " 'predominantly',\n",
       " 'rhinoviruses',\n",
       " 'lethal',\n",
       " 'varieties',\n",
       " 'cause',\n",
       " 'SARS',\n",
       " 'MERS',\n",
       " 'COVID-19',\n",
       " 'Symptoms',\n",
       " 'species',\n",
       " 'vary',\n",
       " 'chickens',\n",
       " 'cause',\n",
       " 'upper',\n",
       " 'respiratory',\n",
       " 'tract',\n",
       " 'disease',\n",
       " 'cows',\n",
       " 'pigs',\n",
       " 'cause',\n",
       " 'diarrhea',\n",
       " 'There',\n",
       " 'yet',\n",
       " 'vaccines',\n",
       " 'antiviral',\n",
       " 'drugs',\n",
       " 'prevent',\n",
       " 'treat',\n",
       " 'human',\n",
       " 'coronavirus',\n",
       " 'infections']"
      ]
     },
     "execution_count": 25,
     "metadata": {},
     "output_type": "execute_result"
    }
   ],
   "source": [
    "word_token = [word for word in word_token if word not in stop_words]\n",
    "word_token"
   ]
  },
  {
   "cell_type": "markdown",
   "id": "c92f3b30",
   "metadata": {},
   "source": [
    "## POS Tagging"
   ]
  },
  {
   "cell_type": "code",
   "execution_count": 26,
   "id": "9bd9112a",
   "metadata": {},
   "outputs": [],
   "source": [
    "# Import library\n",
    "from nltk import pos_tag"
   ]
  },
  {
   "cell_type": "code",
   "execution_count": 27,
   "id": "55fc6fb4",
   "metadata": {},
   "outputs": [],
   "source": [
    "pos_tagging = pos_tag(word_token)"
   ]
  },
  {
   "cell_type": "code",
   "execution_count": 28,
   "id": "14da46a4",
   "metadata": {},
   "outputs": [
    {
     "data": {
      "text/plain": [
       "[('Coronaviruses', 'NNS'),\n",
       " ('group', 'NN'),\n",
       " ('related', 'VBD'),\n",
       " ('RNA', 'NNP'),\n",
       " ('viruses', 'NNS'),\n",
       " ('cause', 'VBP'),\n",
       " ('diseases', 'VBZ'),\n",
       " ('mammals', 'NNS'),\n",
       " ('birds', 'NNS'),\n",
       " ('In', 'IN'),\n",
       " ('humans', 'NNS'),\n",
       " ('viruses', 'NNS'),\n",
       " ('cause', 'VBP'),\n",
       " ('respiratory', 'JJ'),\n",
       " ('tract', 'NN'),\n",
       " ('infections', 'NNS'),\n",
       " ('range', 'VBP'),\n",
       " ('mild', 'JJ'),\n",
       " ('lethal', 'JJ'),\n",
       " ('Mild', 'NNP'),\n",
       " ('illnesses', 'NNS'),\n",
       " ('include', 'VBP'),\n",
       " ('cases', 'NNS'),\n",
       " ('common', 'JJ'),\n",
       " ('cold', 'NN'),\n",
       " ('also', 'RB'),\n",
       " ('caused', 'VBD'),\n",
       " ('viruses', 'NNS'),\n",
       " ('predominantly', 'RB'),\n",
       " ('rhinoviruses', 'VBZ'),\n",
       " ('lethal', 'JJ'),\n",
       " ('varieties', 'NNS'),\n",
       " ('cause', 'VBP'),\n",
       " ('SARS', 'JJ'),\n",
       " ('MERS', 'NNP'),\n",
       " ('COVID-19', 'NNP'),\n",
       " ('Symptoms', 'NNP'),\n",
       " ('species', 'NNS'),\n",
       " ('vary', 'VBP'),\n",
       " ('chickens', 'NNS'),\n",
       " ('cause', 'VBP'),\n",
       " ('upper', 'JJ'),\n",
       " ('respiratory', 'NN'),\n",
       " ('tract', 'NN'),\n",
       " ('disease', 'NN'),\n",
       " ('cows', 'VBZ'),\n",
       " ('pigs', 'NNS'),\n",
       " ('cause', 'NN'),\n",
       " ('diarrhea', 'NN'),\n",
       " ('There', 'EX'),\n",
       " ('yet', 'RB'),\n",
       " ('vaccines', 'NNS'),\n",
       " ('antiviral', 'JJ'),\n",
       " ('drugs', 'NNS'),\n",
       " ('prevent', 'VBP'),\n",
       " ('treat', 'NN'),\n",
       " ('human', 'JJ'),\n",
       " ('coronavirus', 'NN'),\n",
       " ('infections', 'NNS')]"
      ]
     },
     "execution_count": 28,
     "metadata": {},
     "output_type": "execute_result"
    }
   ],
   "source": [
    "pos_tagging"
   ]
  },
  {
   "cell_type": "code",
   "execution_count": null,
   "id": "55e2ec7b",
   "metadata": {},
   "outputs": [],
   "source": []
  }
 ],
 "metadata": {
  "kernelspec": {
   "display_name": "Python 3 (ipykernel)",
   "language": "python",
   "name": "python3"
  },
  "language_info": {
   "codemirror_mode": {
    "name": "ipython",
    "version": 3
   },
   "file_extension": ".py",
   "mimetype": "text/x-python",
   "name": "python",
   "nbconvert_exporter": "python",
   "pygments_lexer": "ipython3",
   "version": "3.8.8"
  }
 },
 "nbformat": 4,
 "nbformat_minor": 5
}
