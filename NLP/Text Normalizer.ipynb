{
 "cells": [
  {
   "cell_type": "markdown",
   "id": "9883a651",
   "metadata": {},
   "source": [
    "# Text Normalizer"
   ]
  },
  {
   "cell_type": "code",
   "execution_count": 1,
   "id": "e785868b",
   "metadata": {},
   "outputs": [],
   "source": [
    "## Import Library\n",
    "import os"
   ]
  },
  {
   "cell_type": "code",
   "execution_count": 2,
   "id": "18152310",
   "metadata": {},
   "outputs": [
    {
     "data": {
      "text/plain": [
       "'C:\\\\Users\\\\divak'"
      ]
     },
     "execution_count": 2,
     "metadata": {},
     "output_type": "execute_result"
    }
   ],
   "source": [
    "# Check working directory\n",
    "os.getcwd()"
   ]
  },
  {
   "cell_type": "code",
   "execution_count": 3,
   "id": "f2c509cd",
   "metadata": {},
   "outputs": [],
   "source": [
    "# Load the text data or text file\n",
    "text_file = open('Text1.txt','r')"
   ]
  },
  {
   "cell_type": "code",
   "execution_count": 4,
   "id": "f5ba21e3",
   "metadata": {},
   "outputs": [
    {
     "data": {
      "text/plain": [
       "<_io.TextIOWrapper name='Text1.txt' mode='r' encoding='cp1252'>"
      ]
     },
     "execution_count": 4,
     "metadata": {},
     "output_type": "execute_result"
    }
   ],
   "source": [
    "text_file"
   ]
  },
  {
   "cell_type": "markdown",
   "id": "8c61f414",
   "metadata": {},
   "source": [
    "## Read the text file or text data"
   ]
  },
  {
   "cell_type": "code",
   "execution_count": 5,
   "id": "16fdc3e6",
   "metadata": {},
   "outputs": [
    {
     "data": {
      "text/plain": [
       "'I\\'d like to discuss with you about the text normailizaiton process step by step here. Here we\\'ll get this data from wikipedia.\\n\\nHTML markup consists of several key components, including those called tags (and their attributes), character-based data types, character references and entity references. HTML tags most commonly come in pairs like <h1> and </h1>, although some represent empty elements and so are unpaired, for example <img>. The first tag in such a pair is the start tag, and the second is the end tag (they are also called opening tags and closing tags).\\n\\nAnother important component is the HTML document type declaration, which triggers standards mode rendering.\\n\\nThe following is an example of the classic \"Hello, World!\" program:\\n\\n<!DOCTYPE html>\\n<html>\\n  <head>\\n    <title>This is a title</title>\\n  </head>\\n  <body>\\n    <div>\\n        <p>Hello world!</p>\\n    </div>\\n  </body>\\n</html>\\nThe text between <html> and </html> describes the web page, and the text between <body> and </body> is the visible page content. The markup text <title>This is a title</title> defines the browser page title, and the tag <div> defines a division of the page used for easy styling.\\n'"
      ]
     },
     "execution_count": 5,
     "metadata": {},
     "output_type": "execute_result"
    }
   ],
   "source": [
    "text = text_file.read()\n",
    "text"
   ]
  },
  {
   "cell_type": "markdown",
   "id": "756fbe15",
   "metadata": {},
   "source": [
    "## Remove HTML Tag using Regular Expression (Regex)"
   ]
  },
  {
   "cell_type": "code",
   "execution_count": 6,
   "id": "6e9a058c",
   "metadata": {},
   "outputs": [],
   "source": [
    "# Import library\n",
    "\n",
    "import re\n",
    "\n",
    "TAG_RE = re.compile(r'<[^>]+>')\n",
    "\n",
    "def html_tags_strip(text): #define remove tag funtion\n",
    "    return TAG_RE.sub('', text)"
   ]
  },
  {
   "cell_type": "code",
   "execution_count": 7,
   "id": "d889a0a2",
   "metadata": {},
   "outputs": [
    {
     "data": {
      "text/plain": [
       "'I\\'d like to discuss with you about the text normailizaiton process step by step here. Here we\\'ll get this data from wikipedia.\\n\\nHTML markup consists of several key components, including those called tags (and their attributes), character-based data types, character references and entity references. HTML tags most commonly come in pairs like  and , although some represent empty elements and so are unpaired, for example . The first tag in such a pair is the start tag, and the second is the end tag (they are also called opening tags and closing tags).\\n\\nAnother important component is the HTML document type declaration, which triggers standards mode rendering.\\n\\nThe following is an example of the classic \"Hello, World!\" program:\\n\\n\\n\\n  \\n    This is a title\\n  \\n  \\n    \\n        Hello world!\\n    \\n  \\n\\nThe text between  and  describes the web page, and the text between  and  is the visible page content. The markup text This is a title defines the browser page title, and the tag  defines a division of the page used for easy styling.\\n'"
      ]
     },
     "execution_count": 7,
     "metadata": {},
     "output_type": "execute_result"
    }
   ],
   "source": [
    "text = html_tags_strip(text)\n",
    "text"
   ]
  },
  {
   "cell_type": "markdown",
   "id": "04fe3973",
   "metadata": {},
   "source": [
    "## Expand Contractions"
   ]
  },
  {
   "cell_type": "code",
   "execution_count": 8,
   "id": "974616a7",
   "metadata": {},
   "outputs": [],
   "source": [
    "import re\n",
    "cList = {\n",
    "  \"ain't\": \"am not\",\n",
    "  \"aren't\": \"are not\",\n",
    "  \"can't\": \"cannot\",\n",
    "  \"can't've\": \"cannot have\",\n",
    "  \"'cause\": \"because\",\n",
    "  \"could've\": \"could have\",\n",
    "  \"couldn't\": \"could not\",\n",
    "  \"couldn't've\": \"could not have\",\n",
    "  \"didn't\": \"did not\",\n",
    "  \"doesn't\": \"does not\",\n",
    "  \"don't\": \"do not\",\n",
    "  \"hadn't\": \"had not\",\n",
    "  \"hadn't've\": \"had not have\",\n",
    "  \"hasn't\": \"has not\",\n",
    "  \"haven't\": \"have not\",\n",
    "  \"he'd\": \"he would\",\n",
    "  \"he'd've\": \"he would have\",\n",
    "  \"he'll\": \"he will\",\n",
    "  \"he'll've\": \"he will have\",\n",
    "  \"he's\": \"he is\",\n",
    "  \"how'd\": \"how did\",\n",
    "  \"how'd'y\": \"how do you\",\n",
    "  \"how'll\": \"how will\",\n",
    "  \"how's\": \"how is\",\n",
    "  \"I'd\": \"I would\",\n",
    "  \"I'd've\": \"I would have\",\n",
    "  \"I'll\": \"I will\",\n",
    "  \"I'll've\": \"I will have\",\n",
    "  \"I'm\": \"I am\",\n",
    "  \"I've\": \"I have\",\n",
    "  \"isn't\": \"is not\",\n",
    "  \"it'd\": \"it had\",\n",
    "  \"it'd've\": \"it would have\",\n",
    "  \"it'll\": \"it will\",\n",
    "  \"it'll've\": \"it will have\",\n",
    "  \"it's\": \"it is\",\n",
    "  \"let's\": \"let us\",\n",
    "  \"ma'am\": \"madam\",\n",
    "  \"mayn't\": \"may not\",\n",
    "  \"might've\": \"might have\",\n",
    "  \"mightn't\": \"might not\",\n",
    "  \"mightn't've\": \"might not have\",\n",
    "  \"must've\": \"must have\",\n",
    "  \"mustn't\": \"must not\",\n",
    "  \"mustn't've\": \"must not have\",\n",
    "  \"needn't\": \"need not\",\n",
    "  \"needn't've\": \"need not have\",\n",
    "  \"o'clock\": \"of the clock\",\n",
    "  \"oughtn't\": \"ought not\",\n",
    "  \"oughtn't've\": \"ought not have\",\n",
    "  \"shan't\": \"shall not\",\n",
    "  \"sha'n't\": \"shall not\",\n",
    "  \"shan't've\": \"shall not have\",\n",
    "  \"she'd\": \"she would\",\n",
    "  \"she'd've\": \"she would have\",\n",
    "  \"she'll\": \"she will\",\n",
    "  \"she'll've\": \"she will have\",\n",
    "  \"she's\": \"she is\",\n",
    "  \"should've\": \"should have\",\n",
    "  \"shouldn't\": \"should not\",\n",
    "  \"shouldn't've\": \"should not have\",\n",
    "  \"so've\": \"so have\",\n",
    "  \"so's\": \"so is\",\n",
    "  \"that'd\": \"that would\",\n",
    "  \"that'd've\": \"that would have\",\n",
    "  \"that's\": \"that is\",\n",
    "  \"there'd\": \"there had\",\n",
    "  \"there'd've\": \"there would have\",\n",
    "  \"there's\": \"there is\",\n",
    "  \"they'd\": \"they would\",\n",
    "  \"they'd've\": \"they would have\",\n",
    "  \"they'll\": \"they will\",\n",
    "  \"they'll've\": \"they will have\",\n",
    "  \"they're\": \"they are\",\n",
    "  \"they've\": \"they have\",\n",
    "  \"to've\": \"to have\",\n",
    "  \"wasn't\": \"was not\",\n",
    "  \"we'd\": \"we had\",\n",
    "  \"we'd've\": \"we would have\",\n",
    "  \"we'll\": \"we will\",\n",
    "  \"we'll've\": \"we will have\",\n",
    "  \"we're\": \"we are\",\n",
    "  \"we've\": \"we have\",\n",
    "  \"weren't\": \"were not\",\n",
    "  \"what'll\": \"what will\",\n",
    "  \"what'll've\": \"what will have\",\n",
    "  \"what're\": \"what are\",\n",
    "  \"what's\": \"what is\",\n",
    "  \"what've\": \"what have\",\n",
    "  \"when's\": \"when is\",\n",
    "  \"when've\": \"when have\",\n",
    "  \"where'd\": \"where did\",\n",
    "  \"where's\": \"where is\",\n",
    "  \"where've\": \"where have\",\n",
    "  \"who'll\": \"who will\",\n",
    "  \"who'll've\": \"who will have\",\n",
    "  \"who's\": \"who is\",\n",
    "  \"who've\": \"who have\",\n",
    "  \"why's\": \"why is\",\n",
    "  \"why've\": \"why have\",\n",
    "  \"will've\": \"will have\",\n",
    "  \"won't\": \"will not\",\n",
    "  \"won't've\": \"will not have\",\n",
    "  \"would've\": \"would have\",\n",
    "  \"wouldn't\": \"would not\",\n",
    "  \"wouldn't've\": \"would not have\",\n",
    "  \"y'all\": \"you all\",\n",
    "  \"y'alls\": \"you alls\",\n",
    "  \"y'all'd\": \"you all would\",\n",
    "  \"y'all'd've\": \"you all would have\",\n",
    "  \"y'all're\": \"you all are\",\n",
    "  \"y'all've\": \"you all have\",\n",
    "  \"you'd\": \"you had\",\n",
    "  \"you'd've\": \"you would have\",\n",
    "  \"you'll\": \"you you will\",\n",
    "  \"you'll've\": \"you you will have\",\n",
    "  \"you're\": \"you are\",\n",
    "  \"you've\": \"you have\"\n",
    "}\n",
    "\n",
    "c_re = re.compile('(%s)' % '|'.join(cList.keys()))\n",
    "\n",
    "def expandContractions(text, c_re=c_re):\n",
    "    def replace(match):\n",
    "        return cList[match.group(0)]\n",
    "    return c_re.sub(replace, text)"
   ]
  },
  {
   "cell_type": "code",
   "execution_count": 9,
   "id": "69682e10",
   "metadata": {},
   "outputs": [
    {
     "data": {
      "text/plain": [
       "'I would like to discuss with you about the text normailizaiton process step by step here. Here we will get this data from wikipedia.\\n\\nHTML markup consists of several key components, including those called tags (and their attributes), character-based data types, character references and entity references. HTML tags most commonly come in pairs like  and , although some represent empty elements and so are unpaired, for example . The first tag in such a pair is the start tag, and the second is the end tag (they are also called opening tags and closing tags).\\n\\nAnother important component is the HTML document type declaration, which triggers standards mode rendering.\\n\\nThe following is an example of the classic \"Hello, World!\" program:\\n\\n\\n\\n  \\n    This is a title\\n  \\n  \\n    \\n        Hello world!\\n    \\n  \\n\\nThe text between  and  describes the web page, and the text between  and  is the visible page content. The markup text This is a title defines the browser page title, and the tag  defines a division of the page used for easy styling.\\n'"
      ]
     },
     "execution_count": 9,
     "metadata": {},
     "output_type": "execute_result"
    }
   ],
   "source": [
    "text = expandContractions(text)\n",
    "text"
   ]
  },
  {
   "cell_type": "markdown",
   "id": "3bad7e20",
   "metadata": {},
   "source": [
    "## Removing accented characters"
   ]
  },
  {
   "cell_type": "code",
   "execution_count": 11,
   "id": "9b56e9b2",
   "metadata": {},
   "outputs": [
    {
     "data": {
      "text/plain": [
       "'Some Accented text, This dog '"
      ]
     },
     "execution_count": 11,
     "metadata": {},
     "output_type": "execute_result"
    }
   ],
   "source": [
    "import unicodedata\n",
    "def remove_accented_chars(text):\n",
    "    text = unicodedata.normalize('NFKD', text).encode('ascii', 'ignore').decode('utf-8', 'ignore')\n",
    "    return text\n",
    "\n",
    "remove_accented_chars('Sómě Áccěntěd těxt, This dog 😂')"
   ]
  },
  {
   "cell_type": "code",
   "execution_count": 12,
   "id": "3c2ba390",
   "metadata": {},
   "outputs": [
    {
     "data": {
      "text/plain": [
       "'I would like to discuss with you about the text normailizaiton process step by step here. Here we will get this data from wikipedia.\\n\\nHTML markup consists of several key components, including those called tags (and their attributes), character-based data types, character references and entity references. HTML tags most commonly come in pairs like  and , although some represent empty elements and so are unpaired, for example . The first tag in such a pair is the start tag, and the second is the end tag (they are also called opening tags and closing tags).\\n\\nAnother important component is the HTML document type declaration, which triggers standards mode rendering.\\n\\nThe following is an example of the classic \"Hello, World!\" program:\\n\\n\\n\\n  \\n    This is a title\\n  \\n  \\n    \\n        Hello world!\\n    \\n  \\n\\nThe text between  and  describes the web page, and the text between  and  is the visible page content. The markup text This is a title defines the browser page title, and the tag  defines a division of the page used for easy styling.\\n'"
      ]
     },
     "execution_count": 12,
     "metadata": {},
     "output_type": "execute_result"
    }
   ],
   "source": [
    "text = remove_accented_chars(text)\n",
    "text"
   ]
  },
  {
   "cell_type": "markdown",
   "id": "15c736a0",
   "metadata": {},
   "source": [
    "## Converting text to lowercase:"
   ]
  },
  {
   "cell_type": "code",
   "execution_count": 13,
   "id": "11612bb2",
   "metadata": {},
   "outputs": [],
   "source": [
    "def lowercase(text):\n",
    "    text = text.lower()\n",
    "    return text"
   ]
  },
  {
   "cell_type": "code",
   "execution_count": 14,
   "id": "8b232873",
   "metadata": {},
   "outputs": [
    {
     "data": {
      "text/plain": [
       "'i would like to discuss with you about the text normailizaiton process step by step here. here we will get this data from wikipedia.\\n\\nhtml markup consists of several key components, including those called tags (and their attributes), character-based data types, character references and entity references. html tags most commonly come in pairs like  and , although some represent empty elements and so are unpaired, for example . the first tag in such a pair is the start tag, and the second is the end tag (they are also called opening tags and closing tags).\\n\\nanother important component is the html document type declaration, which triggers standards mode rendering.\\n\\nthe following is an example of the classic \"hello, world!\" program:\\n\\n\\n\\n  \\n    this is a title\\n  \\n  \\n    \\n        hello world!\\n    \\n  \\n\\nthe text between  and  describes the web page, and the text between  and  is the visible page content. the markup text this is a title defines the browser page title, and the tag  defines a division of the page used for easy styling.\\n'"
      ]
     },
     "execution_count": 14,
     "metadata": {},
     "output_type": "execute_result"
    }
   ],
   "source": [
    "text = lowercase(text)\n",
    "text"
   ]
  },
  {
   "cell_type": "markdown",
   "id": "1250c436",
   "metadata": {},
   "source": [
    "## Remove Special Character"
   ]
  },
  {
   "cell_type": "code",
   "execution_count": 15,
   "id": "d41b19c0",
   "metadata": {},
   "outputs": [],
   "source": [
    "def remove_special_characters(text, remove_digits=False):\n",
    "    pattern = r'[^a-zA-z0-9\\s]' if not remove_digits else r'[^a-zA-z\\s]'\n",
    "    text = re.sub(pattern, '', text)\n",
    "    return text"
   ]
  },
  {
   "cell_type": "code",
   "execution_count": 16,
   "id": "9c6db8c7",
   "metadata": {},
   "outputs": [
    {
     "data": {
      "text/plain": [
       "'i would like to discuss with you about the text normailizaiton process step by step here here we will get this data from wikipedia\\n\\nhtml markup consists of several key components including those called tags and their attributes characterbased data types character references and entity references html tags most commonly come in pairs like  and  although some represent empty elements and so are unpaired for example  the first tag in such a pair is the start tag and the second is the end tag they are also called opening tags and closing tags\\n\\nanother important component is the html document type declaration which triggers standards mode rendering\\n\\nthe following is an example of the classic hello world program\\n\\n\\n\\n  \\n    this is a title\\n  \\n  \\n    \\n        hello world\\n    \\n  \\n\\nthe text between  and  describes the web page and the text between  and  is the visible page content the markup text this is a title defines the browser page title and the tag  defines a division of the page used for easy styling\\n'"
      ]
     },
     "execution_count": 16,
     "metadata": {},
     "output_type": "execute_result"
    }
   ],
   "source": [
    "text = remove_special_characters(text)\n",
    "text"
   ]
  },
  {
   "cell_type": "markdown",
   "id": "c382c564",
   "metadata": {},
   "source": [
    "## Remove Line Space and White Space"
   ]
  },
  {
   "cell_type": "code",
   "execution_count": 17,
   "id": "d0968d91",
   "metadata": {},
   "outputs": [],
   "source": [
    "def remove_space(text):\n",
    "    text = text.replace('\\n',\"\")\n",
    "    text = re.sub(' +', ' ', text)\n",
    "    return text"
   ]
  },
  {
   "cell_type": "code",
   "execution_count": 18,
   "id": "b0cf4e94",
   "metadata": {},
   "outputs": [
    {
     "data": {
      "text/plain": [
       "'i would like to discuss with you about the text normailizaiton process step by step here here we will get this data from wikipediahtml markup consists of several key components including those called tags and their attributes characterbased data types character references and entity references html tags most commonly come in pairs like and although some represent empty elements and so are unpaired for example the first tag in such a pair is the start tag and the second is the end tag they are also called opening tags and closing tagsanother important component is the html document type declaration which triggers standards mode renderingthe following is an example of the classic hello world program this is a title hello world the text between and describes the web page and the text between and is the visible page content the markup text this is a title defines the browser page title and the tag defines a division of the page used for easy styling'"
      ]
     },
     "execution_count": 18,
     "metadata": {},
     "output_type": "execute_result"
    }
   ],
   "source": [
    "text = remove_space(text)\n",
    "text"
   ]
  },
  {
   "cell_type": "markdown",
   "id": "76e72399",
   "metadata": {},
   "source": [
    "## Tokenization"
   ]
  },
  {
   "cell_type": "code",
   "execution_count": 19,
   "id": "eddbd6af",
   "metadata": {},
   "outputs": [],
   "source": [
    "import nltk\n",
    "from nltk import word_tokenize"
   ]
  },
  {
   "cell_type": "code",
   "execution_count": 20,
   "id": "0c0391fd",
   "metadata": {},
   "outputs": [
    {
     "data": {
      "text/plain": [
       "['i',\n",
       " 'would',\n",
       " 'like',\n",
       " 'to',\n",
       " 'discuss',\n",
       " 'with',\n",
       " 'you',\n",
       " 'about',\n",
       " 'the',\n",
       " 'text',\n",
       " 'normailizaiton',\n",
       " 'process',\n",
       " 'step',\n",
       " 'by',\n",
       " 'step',\n",
       " 'here',\n",
       " 'here',\n",
       " 'we',\n",
       " 'will',\n",
       " 'get',\n",
       " 'this',\n",
       " 'data',\n",
       " 'from',\n",
       " 'wikipediahtml',\n",
       " 'markup',\n",
       " 'consists',\n",
       " 'of',\n",
       " 'several',\n",
       " 'key',\n",
       " 'components',\n",
       " 'including',\n",
       " 'those',\n",
       " 'called',\n",
       " 'tags',\n",
       " 'and',\n",
       " 'their',\n",
       " 'attributes',\n",
       " 'characterbased',\n",
       " 'data',\n",
       " 'types',\n",
       " 'character',\n",
       " 'references',\n",
       " 'and',\n",
       " 'entity',\n",
       " 'references',\n",
       " 'html',\n",
       " 'tags',\n",
       " 'most',\n",
       " 'commonly',\n",
       " 'come',\n",
       " 'in',\n",
       " 'pairs',\n",
       " 'like',\n",
       " 'and',\n",
       " 'although',\n",
       " 'some',\n",
       " 'represent',\n",
       " 'empty',\n",
       " 'elements',\n",
       " 'and',\n",
       " 'so',\n",
       " 'are',\n",
       " 'unpaired',\n",
       " 'for',\n",
       " 'example',\n",
       " 'the',\n",
       " 'first',\n",
       " 'tag',\n",
       " 'in',\n",
       " 'such',\n",
       " 'a',\n",
       " 'pair',\n",
       " 'is',\n",
       " 'the',\n",
       " 'start',\n",
       " 'tag',\n",
       " 'and',\n",
       " 'the',\n",
       " 'second',\n",
       " 'is',\n",
       " 'the',\n",
       " 'end',\n",
       " 'tag',\n",
       " 'they',\n",
       " 'are',\n",
       " 'also',\n",
       " 'called',\n",
       " 'opening',\n",
       " 'tags',\n",
       " 'and',\n",
       " 'closing',\n",
       " 'tagsanother',\n",
       " 'important',\n",
       " 'component',\n",
       " 'is',\n",
       " 'the',\n",
       " 'html',\n",
       " 'document',\n",
       " 'type',\n",
       " 'declaration',\n",
       " 'which',\n",
       " 'triggers',\n",
       " 'standards',\n",
       " 'mode',\n",
       " 'renderingthe',\n",
       " 'following',\n",
       " 'is',\n",
       " 'an',\n",
       " 'example',\n",
       " 'of',\n",
       " 'the',\n",
       " 'classic',\n",
       " 'hello',\n",
       " 'world',\n",
       " 'program',\n",
       " 'this',\n",
       " 'is',\n",
       " 'a',\n",
       " 'title',\n",
       " 'hello',\n",
       " 'world',\n",
       " 'the',\n",
       " 'text',\n",
       " 'between',\n",
       " 'and',\n",
       " 'describes',\n",
       " 'the',\n",
       " 'web',\n",
       " 'page',\n",
       " 'and',\n",
       " 'the',\n",
       " 'text',\n",
       " 'between',\n",
       " 'and',\n",
       " 'is',\n",
       " 'the',\n",
       " 'visible',\n",
       " 'page',\n",
       " 'content',\n",
       " 'the',\n",
       " 'markup',\n",
       " 'text',\n",
       " 'this',\n",
       " 'is',\n",
       " 'a',\n",
       " 'title',\n",
       " 'defines',\n",
       " 'the',\n",
       " 'browser',\n",
       " 'page',\n",
       " 'title',\n",
       " 'and',\n",
       " 'the',\n",
       " 'tag',\n",
       " 'defines',\n",
       " 'a',\n",
       " 'division',\n",
       " 'of',\n",
       " 'the',\n",
       " 'page',\n",
       " 'used',\n",
       " 'for',\n",
       " 'easy',\n",
       " 'styling']"
      ]
     },
     "execution_count": 20,
     "metadata": {},
     "output_type": "execute_result"
    }
   ],
   "source": [
    "text = word_tokenize(text)\n",
    "text"
   ]
  },
  {
   "cell_type": "code",
   "execution_count": 21,
   "id": "9efcd223",
   "metadata": {},
   "outputs": [],
   "source": [
    "def stemming_text(text):\n",
    "    ps = nltk.porter.PorterStemmer()\n",
    "    text = ' '.join([ps.stem(word) for word in text])\n",
    "    return text"
   ]
  },
  {
   "cell_type": "code",
   "execution_count": 23,
   "id": "b4e34e43",
   "metadata": {},
   "outputs": [],
   "source": [
    "import nltk\n",
    "from nltk.stem import WordNetLemmatizer\n",
    "wordnet_lemmatizer = WordNetLemmatizer()\n",
    "\n",
    "def lemmatize_text(text):\n",
    "    text = [wordnet_lemmatizer.lemmatize(word) for word in text]\n",
    "    return text"
   ]
  },
  {
   "cell_type": "code",
   "execution_count": 24,
   "id": "972172d1",
   "metadata": {},
   "outputs": [
    {
     "data": {
      "text/plain": [
       "['i',\n",
       " 'would',\n",
       " 'like',\n",
       " 'to',\n",
       " 'discus',\n",
       " 'with',\n",
       " 'you',\n",
       " 'about',\n",
       " 'the',\n",
       " 'text',\n",
       " 'normailizaiton',\n",
       " 'process',\n",
       " 'step',\n",
       " 'by',\n",
       " 'step',\n",
       " 'here',\n",
       " 'here',\n",
       " 'we',\n",
       " 'will',\n",
       " 'get',\n",
       " 'this',\n",
       " 'data',\n",
       " 'from',\n",
       " 'wikipediahtml',\n",
       " 'markup',\n",
       " 'consists',\n",
       " 'of',\n",
       " 'several',\n",
       " 'key',\n",
       " 'component',\n",
       " 'including',\n",
       " 'those',\n",
       " 'called',\n",
       " 'tag',\n",
       " 'and',\n",
       " 'their',\n",
       " 'attribute',\n",
       " 'characterbased',\n",
       " 'data',\n",
       " 'type',\n",
       " 'character',\n",
       " 'reference',\n",
       " 'and',\n",
       " 'entity',\n",
       " 'reference',\n",
       " 'html',\n",
       " 'tag',\n",
       " 'most',\n",
       " 'commonly',\n",
       " 'come',\n",
       " 'in',\n",
       " 'pair',\n",
       " 'like',\n",
       " 'and',\n",
       " 'although',\n",
       " 'some',\n",
       " 'represent',\n",
       " 'empty',\n",
       " 'element',\n",
       " 'and',\n",
       " 'so',\n",
       " 'are',\n",
       " 'unpaired',\n",
       " 'for',\n",
       " 'example',\n",
       " 'the',\n",
       " 'first',\n",
       " 'tag',\n",
       " 'in',\n",
       " 'such',\n",
       " 'a',\n",
       " 'pair',\n",
       " 'is',\n",
       " 'the',\n",
       " 'start',\n",
       " 'tag',\n",
       " 'and',\n",
       " 'the',\n",
       " 'second',\n",
       " 'is',\n",
       " 'the',\n",
       " 'end',\n",
       " 'tag',\n",
       " 'they',\n",
       " 'are',\n",
       " 'also',\n",
       " 'called',\n",
       " 'opening',\n",
       " 'tag',\n",
       " 'and',\n",
       " 'closing',\n",
       " 'tagsanother',\n",
       " 'important',\n",
       " 'component',\n",
       " 'is',\n",
       " 'the',\n",
       " 'html',\n",
       " 'document',\n",
       " 'type',\n",
       " 'declaration',\n",
       " 'which',\n",
       " 'trigger',\n",
       " 'standard',\n",
       " 'mode',\n",
       " 'renderingthe',\n",
       " 'following',\n",
       " 'is',\n",
       " 'an',\n",
       " 'example',\n",
       " 'of',\n",
       " 'the',\n",
       " 'classic',\n",
       " 'hello',\n",
       " 'world',\n",
       " 'program',\n",
       " 'this',\n",
       " 'is',\n",
       " 'a',\n",
       " 'title',\n",
       " 'hello',\n",
       " 'world',\n",
       " 'the',\n",
       " 'text',\n",
       " 'between',\n",
       " 'and',\n",
       " 'describes',\n",
       " 'the',\n",
       " 'web',\n",
       " 'page',\n",
       " 'and',\n",
       " 'the',\n",
       " 'text',\n",
       " 'between',\n",
       " 'and',\n",
       " 'is',\n",
       " 'the',\n",
       " 'visible',\n",
       " 'page',\n",
       " 'content',\n",
       " 'the',\n",
       " 'markup',\n",
       " 'text',\n",
       " 'this',\n",
       " 'is',\n",
       " 'a',\n",
       " 'title',\n",
       " 'defines',\n",
       " 'the',\n",
       " 'browser',\n",
       " 'page',\n",
       " 'title',\n",
       " 'and',\n",
       " 'the',\n",
       " 'tag',\n",
       " 'defines',\n",
       " 'a',\n",
       " 'division',\n",
       " 'of',\n",
       " 'the',\n",
       " 'page',\n",
       " 'used',\n",
       " 'for',\n",
       " 'easy',\n",
       " 'styling']"
      ]
     },
     "execution_count": 24,
     "metadata": {},
     "output_type": "execute_result"
    }
   ],
   "source": [
    "text = lemmatize_text(text)\n",
    "text"
   ]
  },
  {
   "cell_type": "code",
   "execution_count": 25,
   "id": "ddbfec57",
   "metadata": {},
   "outputs": [
    {
     "data": {
      "text/plain": [
       "164"
      ]
     },
     "execution_count": 25,
     "metadata": {},
     "output_type": "execute_result"
    }
   ],
   "source": [
    "len(text)"
   ]
  },
  {
   "cell_type": "code",
   "execution_count": 26,
   "id": "d33d9ec0",
   "metadata": {},
   "outputs": [],
   "source": [
    "# Import Library\n",
    "from nltk.corpus import stopwords"
   ]
  },
  {
   "cell_type": "code",
   "execution_count": 27,
   "id": "d5d86fb7",
   "metadata": {},
   "outputs": [],
   "source": [
    "def stop_words(text):\n",
    "    stop_words = set(stopwords.words('english'))\n",
    "    stop_words.update(['.', ',', '\"', \"'\", '?', '!', ':', ';', '(', ')', '[', ']', '{', '}']) # remove it if you need punctuation\n",
    "    text = [word for word in text if word not in stop_words]\n",
    "    return text"
   ]
  },
  {
   "cell_type": "code",
   "execution_count": 28,
   "id": "b6b0e376",
   "metadata": {},
   "outputs": [
    {
     "data": {
      "text/plain": [
       "['would',\n",
       " 'like',\n",
       " 'discus',\n",
       " 'text',\n",
       " 'normailizaiton',\n",
       " 'process',\n",
       " 'step',\n",
       " 'step',\n",
       " 'get',\n",
       " 'data',\n",
       " 'wikipediahtml',\n",
       " 'markup',\n",
       " 'consists',\n",
       " 'several',\n",
       " 'key',\n",
       " 'component',\n",
       " 'including',\n",
       " 'called',\n",
       " 'tag',\n",
       " 'attribute',\n",
       " 'characterbased',\n",
       " 'data',\n",
       " 'type',\n",
       " 'character',\n",
       " 'reference',\n",
       " 'entity',\n",
       " 'reference',\n",
       " 'html',\n",
       " 'tag',\n",
       " 'commonly',\n",
       " 'come',\n",
       " 'pair',\n",
       " 'like',\n",
       " 'although',\n",
       " 'represent',\n",
       " 'empty',\n",
       " 'element',\n",
       " 'unpaired',\n",
       " 'example',\n",
       " 'first',\n",
       " 'tag',\n",
       " 'pair',\n",
       " 'start',\n",
       " 'tag',\n",
       " 'second',\n",
       " 'end',\n",
       " 'tag',\n",
       " 'also',\n",
       " 'called',\n",
       " 'opening',\n",
       " 'tag',\n",
       " 'closing',\n",
       " 'tagsanother',\n",
       " 'important',\n",
       " 'component',\n",
       " 'html',\n",
       " 'document',\n",
       " 'type',\n",
       " 'declaration',\n",
       " 'trigger',\n",
       " 'standard',\n",
       " 'mode',\n",
       " 'renderingthe',\n",
       " 'following',\n",
       " 'example',\n",
       " 'classic',\n",
       " 'hello',\n",
       " 'world',\n",
       " 'program',\n",
       " 'title',\n",
       " 'hello',\n",
       " 'world',\n",
       " 'text',\n",
       " 'describes',\n",
       " 'web',\n",
       " 'page',\n",
       " 'text',\n",
       " 'visible',\n",
       " 'page',\n",
       " 'content',\n",
       " 'markup',\n",
       " 'text',\n",
       " 'title',\n",
       " 'defines',\n",
       " 'browser',\n",
       " 'page',\n",
       " 'title',\n",
       " 'tag',\n",
       " 'defines',\n",
       " 'division',\n",
       " 'page',\n",
       " 'used',\n",
       " 'easy',\n",
       " 'styling']"
      ]
     },
     "execution_count": 28,
     "metadata": {},
     "output_type": "execute_result"
    }
   ],
   "source": [
    "text = stop_words(text)\n",
    "text"
   ]
  },
  {
   "cell_type": "code",
   "execution_count": 29,
   "id": "43587f98",
   "metadata": {},
   "outputs": [
    {
     "data": {
      "text/plain": [
       "94"
      ]
     },
     "execution_count": 29,
     "metadata": {},
     "output_type": "execute_result"
    }
   ],
   "source": [
    "len(text)"
   ]
  },
  {
   "cell_type": "code",
   "execution_count": 35,
   "id": "4fcfd135",
   "metadata": {},
   "outputs": [],
   "source": [
    "# Load the text data or text file\n",
    "text_file = open('Text1.txt','r')"
   ]
  },
  {
   "cell_type": "code",
   "execution_count": 36,
   "id": "f76c3c92",
   "metadata": {},
   "outputs": [
    {
     "data": {
      "text/plain": [
       "'I\\'d like to discuss with you about the text normailizaiton process step by step here. Here we\\'ll get this data from wikipedia.\\n\\nHTML markup consists of several key components, including those called tags (and their attributes), character-based data types, character references and entity references. HTML tags most commonly come in pairs like <h1> and </h1>, although some represent empty elements and so are unpaired, for example <img>. The first tag in such a pair is the start tag, and the second is the end tag (they are also called opening tags and closing tags).\\n\\nAnother important component is the HTML document type declaration, which triggers standards mode rendering.\\n\\nThe following is an example of the classic \"Hello, World!\" program:\\n\\n<!DOCTYPE html>\\n<html>\\n  <head>\\n    <title>This is a title</title>\\n  </head>\\n  <body>\\n    <div>\\n        <p>Hello world!</p>\\n    </div>\\n  </body>\\n</html>\\nThe text between <html> and </html> describes the web page, and the text between <body> and </body> is the visible page content. The markup text <title>This is a title</title> defines the browser page title, and the tag <div> defines a division of the page used for easy styling.\\n'"
      ]
     },
     "execution_count": 36,
     "metadata": {},
     "output_type": "execute_result"
    }
   ],
   "source": [
    "text = text_file.read()\n",
    "text"
   ]
  },
  {
   "cell_type": "code",
   "execution_count": 37,
   "id": "39354d9f",
   "metadata": {},
   "outputs": [],
   "source": [
    "def text_normalizer(text):\n",
    "\n",
    "    # strip HTML\n",
    "    text = html_tags_strip(text)\n",
    "    \n",
    "    # expand contractions    \n",
    "    text = expandContractions(text)\n",
    "    \n",
    "    # remove accented characters\n",
    "    text = remove_accented_chars(text)\n",
    "     \n",
    "    # remove special characters and\\or digits\n",
    "    text = remove_special_characters(text)  \n",
    "   \n",
    "    # remove extra whitespace\n",
    "    text = remove_space(text)\n",
    "   \n",
    "    # lowercase the text    \n",
    "    text = lowercase(text)\n",
    "    \n",
    "    #Tokenization\n",
    "    text = word_tokenize(text)\n",
    "    \n",
    "    # lemmatize text\n",
    "    text = lemmatize_text(text)\n",
    "    print(len(text))\n",
    "   \n",
    "    # remove stopwords\n",
    "    text = stop_words(text)\n",
    "    print(len(text))\n",
    "\n",
    "    return text"
   ]
  },
  {
   "cell_type": "code",
   "execution_count": 38,
   "id": "e5af18eb",
   "metadata": {},
   "outputs": [
    {
     "name": "stdout",
     "output_type": "stream",
     "text": [
      "164\n",
      "94\n"
     ]
    }
   ],
   "source": [
    "text = text_normalizer(text)"
   ]
  },
  {
   "cell_type": "code",
   "execution_count": 39,
   "id": "1611fe16",
   "metadata": {},
   "outputs": [
    {
     "data": {
      "text/plain": [
       "['would',\n",
       " 'like',\n",
       " 'discus',\n",
       " 'text',\n",
       " 'normailizaiton',\n",
       " 'process',\n",
       " 'step',\n",
       " 'step',\n",
       " 'get',\n",
       " 'data',\n",
       " 'wikipediahtml',\n",
       " 'markup',\n",
       " 'consists',\n",
       " 'several',\n",
       " 'key',\n",
       " 'component',\n",
       " 'including',\n",
       " 'called',\n",
       " 'tag',\n",
       " 'attribute',\n",
       " 'characterbased',\n",
       " 'data',\n",
       " 'type',\n",
       " 'character',\n",
       " 'reference',\n",
       " 'entity',\n",
       " 'reference',\n",
       " 'html',\n",
       " 'tag',\n",
       " 'commonly',\n",
       " 'come',\n",
       " 'pair',\n",
       " 'like',\n",
       " 'although',\n",
       " 'represent',\n",
       " 'empty',\n",
       " 'element',\n",
       " 'unpaired',\n",
       " 'example',\n",
       " 'first',\n",
       " 'tag',\n",
       " 'pair',\n",
       " 'start',\n",
       " 'tag',\n",
       " 'second',\n",
       " 'end',\n",
       " 'tag',\n",
       " 'also',\n",
       " 'called',\n",
       " 'opening',\n",
       " 'tag',\n",
       " 'closing',\n",
       " 'tagsanother',\n",
       " 'important',\n",
       " 'component',\n",
       " 'html',\n",
       " 'document',\n",
       " 'type',\n",
       " 'declaration',\n",
       " 'trigger',\n",
       " 'standard',\n",
       " 'mode',\n",
       " 'renderingthe',\n",
       " 'following',\n",
       " 'example',\n",
       " 'classic',\n",
       " 'hello',\n",
       " 'world',\n",
       " 'program',\n",
       " 'title',\n",
       " 'hello',\n",
       " 'world',\n",
       " 'text',\n",
       " 'describes',\n",
       " 'web',\n",
       " 'page',\n",
       " 'text',\n",
       " 'visible',\n",
       " 'page',\n",
       " 'content',\n",
       " 'markup',\n",
       " 'text',\n",
       " 'title',\n",
       " 'defines',\n",
       " 'browser',\n",
       " 'page',\n",
       " 'title',\n",
       " 'tag',\n",
       " 'defines',\n",
       " 'division',\n",
       " 'page',\n",
       " 'used',\n",
       " 'easy',\n",
       " 'styling']"
      ]
     },
     "execution_count": 39,
     "metadata": {},
     "output_type": "execute_result"
    }
   ],
   "source": [
    "text"
   ]
  },
  {
   "cell_type": "code",
   "execution_count": null,
   "id": "578680c3",
   "metadata": {},
   "outputs": [],
   "source": []
  }
 ],
 "metadata": {
  "kernelspec": {
   "display_name": "Python 3 (ipykernel)",
   "language": "python",
   "name": "python3"
  },
  "language_info": {
   "codemirror_mode": {
    "name": "ipython",
    "version": 3
   },
   "file_extension": ".py",
   "mimetype": "text/x-python",
   "name": "python",
   "nbconvert_exporter": "python",
   "pygments_lexer": "ipython3",
   "version": "3.8.8"
  }
 },
 "nbformat": 4,
 "nbformat_minor": 5
}
