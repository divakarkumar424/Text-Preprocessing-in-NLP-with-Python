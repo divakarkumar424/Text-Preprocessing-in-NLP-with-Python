{
 "cells": [
  {
   "cell_type": "markdown",
   "id": "12f0148d",
   "metadata": {},
   "source": [
    "# n-grams\n",
    "N-grams are continuous sequences of words or symbols or tokens in a document. In technical terms, they can be defined as the neighbouring sequences of items in a document. They come into play when we deal with text data in NLP(Natural Language Processing) tasks.\n",
    "\n",
    "That’s alright! But, aren’t you curious what these items are? Note that they are no big geek stuff; instead, they simply refer to the words, letters, or symbols.\n",
    "\n",
    "## How are n-grams classified?\n",
    "Did you notice the ‘n’ in the term “n-grams”?Can you guess what this ‘n’ possibly is?\n",
    "\n",
    "Remember the days we learned how to input an array by first inputting its size(n) or even a number from the user? Generally, we used to store such values in a variable declared as ‘n’!Apart from programming, you must have extensively encountered ‘n’ in the formulae of the sum of series and so on. What do you think ‘n’ was over there?\n",
    "\n",
    "Summing up,’n’ is just a variable that can have positive integer values including 1,2,3 and so on.’n’ basically refers to multiple.\n",
    "\n",
    "Thinking in the same lines, n-grams are classified into the following types, depending on the value that ‘n’ takes.\n",
    "\n",
    "                                                   n                Term\n",
    "\n",
    "                                                   1               Unigram\n",
    "                                                \n",
    "                                                   2               Bigram\n",
    "\n",
    "                                                   3               Trigram\n",
    "\n",
    "                                                   n                n-gram\n",
    "\n",
    "As clearly depicted in the table above, when n=1, it is said to be a unigram. When n=2, it is said to be a bigram and so on.\n",
    "\n",
    "Now, you must be wondering why we need many different types of n-grams?! This is because different types of n-grams are suitable for different types of applications. You should try different n-grams on your data in order to confidently conclude which one works the best among all for your text analysis. For instance, research has substantiated that trigrams and 4 grams work the best in the case of spam filtering."
   ]
  },
  {
   "cell_type": "markdown",
   "id": "c9e2df58",
   "metadata": {},
   "source": [
    "# Example of n-grams\n",
    "Let’s understand n-grams practically with the help of the following sentence:\n",
    "\n",
    "“I reside in Bengaluru”\n",
    "\n",
    "             SL.No.      Type of n-gram      Generated n-grams\n",
    "\n",
    "              1            Unigram      [“I”,”reside”,”in”,“Bengaluru”]\n",
    "\n",
    "              2            Bigram       [“I reside”,”residein”,”inBengaluru”]\n",
    "\n",
    "              3            Trigram      [“I reside in”, “reside in Bengaluru”]\n",
    "\n",
    "For the time being, let’s not consider the removal of stop-words 🙂\n",
    "\n",
    "From the table above, it’s clear that unigram means taking only one word at a time, bigram means taking two words at a time and trigram means taking three words at a time. We will be implementing only till trigrams here in this blog. Feel free to proceed ahead and explore 4 grams,5-grams, and so on from your take-aways from the blog!"
   ]
  },
  {
   "cell_type": "code",
   "execution_count": 1,
   "id": "4df66577",
   "metadata": {},
   "outputs": [],
   "source": [
    "## Import Library\n",
    "import os"
   ]
  },
  {
   "cell_type": "code",
   "execution_count": 2,
   "id": "b3c58145",
   "metadata": {},
   "outputs": [
    {
     "data": {
      "text/plain": [
       "'C:\\\\Users\\\\divak'"
      ]
     },
     "execution_count": 2,
     "metadata": {},
     "output_type": "execute_result"
    }
   ],
   "source": [
    "# Check working directory\n",
    "os.getcwd()"
   ]
  },
  {
   "cell_type": "code",
   "execution_count": 4,
   "id": "9a2c3289",
   "metadata": {},
   "outputs": [],
   "source": [
    "# load the text data or text file\n",
    "text_file = open('text.txt', 'r')"
   ]
  },
  {
   "cell_type": "code",
   "execution_count": 5,
   "id": "d73f53ee",
   "metadata": {},
   "outputs": [
    {
     "data": {
      "text/plain": [
       "_io.TextIOWrapper"
      ]
     },
     "execution_count": 5,
     "metadata": {},
     "output_type": "execute_result"
    }
   ],
   "source": [
    "# Check datatype\n",
    "type(text_file)"
   ]
  },
  {
   "cell_type": "markdown",
   "id": "2cda2e30",
   "metadata": {},
   "source": [
    "## Read the text file or text data"
   ]
  },
  {
   "cell_type": "code",
   "execution_count": 6,
   "id": "19bad966",
   "metadata": {},
   "outputs": [
    {
     "data": {
      "text/plain": [
       "\"Coronaviruses are a group of related RNA viruses that cause diseases in mammals and birds. In humans, these viruses cause respiratory tract infections that can range from mild to lethal. Mild illnesses include some cases of the common cold (which is also caused by other viruses, predominantly rhinoviruses), while more lethal varieties can cause SARS, MERS, and COVID-19. Symptoms in other species vary: in chickens, they cause an upper respiratory tract disease, while in cows and pigs they cause diarrhea. There are as yet no vaccines or antiviral drugs to prevent or treat human coronavirus infections.\\n\\nCoronaviruses constitute the subfamily Orthocoronavirinae, in the family Coronaviridae, order Nidovirales, and realm Riboviria.[5][6] They are enveloped viruses with a positive-sense single-stranded RNA genome and a nucleocapsid of helical symmetry.[7] The genome size of coronaviruses ranges from approximately 26 to 32 kilobases, one of the largest among RNA viruses.[8] They have characteristic club-shaped spikes that project from their surface, which in electron micrographs create an image reminiscent of the solar corona, from which their name derives.[9]\\n\\nCoronaviruses were first discovered in the 1930s when an acute respiratory infection of domesticated chickens was shown to be caused by infectious bronchitis virus (IBV).[14] Arthur Schalk and M.C. Hawn described in 1931 a new respiratory infection of chickens in North Dakota. The infection of new-born chicks was characterized by gasping and listlessness. The chicks' mortality rate was 40â€“90%.[15] Fred Beaudette and Charles Hudson six years later successfully isolated and cultivated the infectious bronchitis virus which caused the disease.[16] In the 1940s, two more animal coronaviruses, mouse hepatitis virus (MHV) and transmissible gastroenteritis virus (TGEV), were isolated.[17] It was not realized at the time that these three different viruses were related.[18]\\n\\nHuman coronaviruses were discovered in the 1960s.[19][20] They were isolated using two different methods in the United Kingdom and the United States.[21] E.C. Kendall, Malcom Byone, and David Tyrrell working at the Common Cold Unit of the British Medical Research Council in 1960 isolated from a boy a novel common cold virus B814.[22][23][24] The virus was not able to be cultivated using standard techniques which had successfully cultivated rhinoviruses, adenoviruses and other known common cold viruses. In 1965, Tyrrell and Byone successfully cultivated the novel virus by serially passing it through organ culture of human embryonic trachea.[25] The new cultivating method was introduced to the lab by Bertil Hoorn.[26] The isolated virus when intranasally inoculated into volunteers caused a cold and was inactivated by ether which indicated it had a lipid envelope.[22][27] Around the same time, Dorothy Hamre[28] and John Procknow at the University of Chicago isolated a novel cold virus 229E from medical students, which they grew in kidney tissue culture. The novel virus 229E, like the virus strain B814, when inoculated into volunteers caused a cold and was inactivated by ether.[29]\\n\\nThe two novel strains B814 and 229E were subsequently imaged by electron microscopy in 1967 by Scottish virologist June Almeida at St. Thomas Hospital in London.[30][31] Almeida through electron microscopy was able to show that B814 and 229E were morphologically related by their distinctive club-like spikes. Not only were they related with each other, but they were morphologically related to infectious bronchitis virus (IBV).[32] A research group at the National Institute of Health the same year was able to isolate another member of this new group of viruses using organ culture and named the virus strain OC43 (OC for organ culture).[33] Like B814, 229E, and IBV, the novel cold virus OC43 had distinctive club-like spikes when observed with the electron microscope.[34][35]\\n\\nThe IBV-like novel cold viruses were soon shown to be also morphologically related to the mouse hepatitis virus.[17] This new group of IBV-like viruses came to be known as coronaviruses after their distinctive morphological appearance.[9] Human coronavirus 229E and human coronavirus OC43 continued to be studied in subsequent decades.[36][37] The coronavirus strain B814 was lost. It is not known which present human coronavirus it was.[38] Other human coronaviruses have since been identified, including SARS-CoV in 2003, HCoV NL63 in 2004, HCoV HKU1 in 2005, MERS-CoV in 2012, and SARS-CoV-2 in 2019.[39][40] There have also been a large number of animal coronaviruses identified since the 1960s.[5]\\n\""
      ]
     },
     "execution_count": 6,
     "metadata": {},
     "output_type": "execute_result"
    }
   ],
   "source": [
    "text = text_file.read()\n",
    "text"
   ]
  },
  {
   "cell_type": "markdown",
   "id": "7773fa7b",
   "metadata": {},
   "source": [
    "## Breaking down large piece of text data into paragraphs"
   ]
  },
  {
   "cell_type": "code",
   "execution_count": 7,
   "id": "29ef0639",
   "metadata": {},
   "outputs": [
    {
     "name": "stdout",
     "output_type": "stream",
     "text": [
      "['Coronaviruses are a group of related RNA viruses that cause diseases in mammals and birds. In humans, these viruses cause respiratory tract infections that can range from mild to lethal. Mild illnesses include some cases of the common cold (which is also caused by other viruses, predominantly rhinoviruses), while more lethal varieties can cause SARS, MERS, and COVID-19. Symptoms in other species vary: in chickens, they cause an upper respiratory tract disease, while in cows and pigs they cause diarrhea. There are as yet no vaccines or antiviral drugs to prevent or treat human coronavirus infections.', '', 'Coronaviruses constitute the subfamily Orthocoronavirinae, in the family Coronaviridae, order Nidovirales, and realm Riboviria.[5][6] They are enveloped viruses with a positive-sense single-stranded RNA genome and a nucleocapsid of helical symmetry.[7] The genome size of coronaviruses ranges from approximately 26 to 32 kilobases, one of the largest among RNA viruses.[8] They have characteristic club-shaped spikes that project from their surface, which in electron micrographs create an image reminiscent of the solar corona, from which their name derives.[9]', '', \"Coronaviruses were first discovered in the 1930s when an acute respiratory infection of domesticated chickens was shown to be caused by infectious bronchitis virus (IBV).[14] Arthur Schalk and M.C. Hawn described in 1931 a new respiratory infection of chickens in North Dakota. The infection of new-born chicks was characterized by gasping and listlessness. The chicks' mortality rate was 40â€“90%.[15] Fred Beaudette and Charles Hudson six years later successfully isolated and cultivated the infectious bronchitis virus which caused the disease.[16] In the 1940s, two more animal coronaviruses, mouse hepatitis virus (MHV) and transmissible gastroenteritis virus (TGEV), were isolated.[17] It was not realized at the time that these three different viruses were related.[18]\", '', 'Human coronaviruses were discovered in the 1960s.[19][20] They were isolated using two different methods in the United Kingdom and the United States.[21] E.C. Kendall, Malcom Byone, and David Tyrrell working at the Common Cold Unit of the British Medical Research Council in 1960 isolated from a boy a novel common cold virus B814.[22][23][24] The virus was not able to be cultivated using standard techniques which had successfully cultivated rhinoviruses, adenoviruses and other known common cold viruses. In 1965, Tyrrell and Byone successfully cultivated the novel virus by serially passing it through organ culture of human embryonic trachea.[25] The new cultivating method was introduced to the lab by Bertil Hoorn.[26] The isolated virus when intranasally inoculated into volunteers caused a cold and was inactivated by ether which indicated it had a lipid envelope.[22][27] Around the same time, Dorothy Hamre[28] and John Procknow at the University of Chicago isolated a novel cold virus 229E from medical students, which they grew in kidney tissue culture. The novel virus 229E, like the virus strain B814, when inoculated into volunteers caused a cold and was inactivated by ether.[29]', '', 'The two novel strains B814 and 229E were subsequently imaged by electron microscopy in 1967 by Scottish virologist June Almeida at St. Thomas Hospital in London.[30][31] Almeida through electron microscopy was able to show that B814 and 229E were morphologically related by their distinctive club-like spikes. Not only were they related with each other, but they were morphologically related to infectious bronchitis virus (IBV).[32] A research group at the National Institute of Health the same year was able to isolate another member of this new group of viruses using organ culture and named the virus strain OC43 (OC for organ culture).[33] Like B814, 229E, and IBV, the novel cold virus OC43 had distinctive club-like spikes when observed with the electron microscope.[34][35]', '', 'The IBV-like novel cold viruses were soon shown to be also morphologically related to the mouse hepatitis virus.[17] This new group of IBV-like viruses came to be known as coronaviruses after their distinctive morphological appearance.[9] Human coronavirus 229E and human coronavirus OC43 continued to be studied in subsequent decades.[36][37] The coronavirus strain B814 was lost. It is not known which present human coronavirus it was.[38] Other human coronaviruses have since been identified, including SARS-CoV in 2003, HCoV NL63 in 2004, HCoV HKU1 in 2005, MERS-CoV in 2012, and SARS-CoV-2 in 2019.[39][40] There have also been a large number of animal coronaviruses identified since the 1960s.[5]', '']\n"
     ]
    }
   ],
   "source": [
    "text_paragraphs = text.split('\\n')\n",
    "print(text_paragraphs)"
   ]
  },
  {
   "cell_type": "code",
   "execution_count": 8,
   "id": "794e04a9",
   "metadata": {},
   "outputs": [
    {
     "data": {
      "text/plain": [
       "12"
      ]
     },
     "execution_count": 8,
     "metadata": {},
     "output_type": "execute_result"
    }
   ],
   "source": [
    "# Check the lengtho of paragraphs\n",
    "len(text_paragraphs)"
   ]
  },
  {
   "cell_type": "markdown",
   "id": "284bb46d",
   "metadata": {},
   "source": [
    "## List Comprehension"
   ]
  },
  {
   "cell_type": "code",
   "execution_count": 9,
   "id": "e0ab47a9",
   "metadata": {},
   "outputs": [
    {
     "data": {
      "text/plain": [
       "['Coronaviruses are a group of related RNA viruses that cause diseases in mammals and birds. In humans, these viruses cause respiratory tract infections that can range from mild to lethal. Mild illnesses include some cases of the common cold (which is also caused by other viruses, predominantly rhinoviruses), while more lethal varieties can cause SARS, MERS, and COVID-19. Symptoms in other species vary: in chickens, they cause an upper respiratory tract disease, while in cows and pigs they cause diarrhea. There are as yet no vaccines or antiviral drugs to prevent or treat human coronavirus infections.',\n",
       " 'Coronaviruses constitute the subfamily Orthocoronavirinae, in the family Coronaviridae, order Nidovirales, and realm Riboviria.[5][6] They are enveloped viruses with a positive-sense single-stranded RNA genome and a nucleocapsid of helical symmetry.[7] The genome size of coronaviruses ranges from approximately 26 to 32 kilobases, one of the largest among RNA viruses.[8] They have characteristic club-shaped spikes that project from their surface, which in electron micrographs create an image reminiscent of the solar corona, from which their name derives.[9]',\n",
       " \"Coronaviruses were first discovered in the 1930s when an acute respiratory infection of domesticated chickens was shown to be caused by infectious bronchitis virus (IBV).[14] Arthur Schalk and M.C. Hawn described in 1931 a new respiratory infection of chickens in North Dakota. The infection of new-born chicks was characterized by gasping and listlessness. The chicks' mortality rate was 40â€“90%.[15] Fred Beaudette and Charles Hudson six years later successfully isolated and cultivated the infectious bronchitis virus which caused the disease.[16] In the 1940s, two more animal coronaviruses, mouse hepatitis virus (MHV) and transmissible gastroenteritis virus (TGEV), were isolated.[17] It was not realized at the time that these three different viruses were related.[18]\",\n",
       " 'Human coronaviruses were discovered in the 1960s.[19][20] They were isolated using two different methods in the United Kingdom and the United States.[21] E.C. Kendall, Malcom Byone, and David Tyrrell working at the Common Cold Unit of the British Medical Research Council in 1960 isolated from a boy a novel common cold virus B814.[22][23][24] The virus was not able to be cultivated using standard techniques which had successfully cultivated rhinoviruses, adenoviruses and other known common cold viruses. In 1965, Tyrrell and Byone successfully cultivated the novel virus by serially passing it through organ culture of human embryonic trachea.[25] The new cultivating method was introduced to the lab by Bertil Hoorn.[26] The isolated virus when intranasally inoculated into volunteers caused a cold and was inactivated by ether which indicated it had a lipid envelope.[22][27] Around the same time, Dorothy Hamre[28] and John Procknow at the University of Chicago isolated a novel cold virus 229E from medical students, which they grew in kidney tissue culture. The novel virus 229E, like the virus strain B814, when inoculated into volunteers caused a cold and was inactivated by ether.[29]',\n",
       " 'The two novel strains B814 and 229E were subsequently imaged by electron microscopy in 1967 by Scottish virologist June Almeida at St. Thomas Hospital in London.[30][31] Almeida through electron microscopy was able to show that B814 and 229E were morphologically related by their distinctive club-like spikes. Not only were they related with each other, but they were morphologically related to infectious bronchitis virus (IBV).[32] A research group at the National Institute of Health the same year was able to isolate another member of this new group of viruses using organ culture and named the virus strain OC43 (OC for organ culture).[33] Like B814, 229E, and IBV, the novel cold virus OC43 had distinctive club-like spikes when observed with the electron microscope.[34][35]',\n",
       " 'The IBV-like novel cold viruses were soon shown to be also morphologically related to the mouse hepatitis virus.[17] This new group of IBV-like viruses came to be known as coronaviruses after their distinctive morphological appearance.[9] Human coronavirus 229E and human coronavirus OC43 continued to be studied in subsequent decades.[36][37] The coronavirus strain B814 was lost. It is not known which present human coronavirus it was.[38] Other human coronaviruses have since been identified, including SARS-CoV in 2003, HCoV NL63 in 2004, HCoV HKU1 in 2005, MERS-CoV in 2012, and SARS-CoV-2 in 2019.[39][40] There have also been a large number of animal coronaviruses identified since the 1960s.[5]']"
      ]
     },
     "execution_count": 9,
     "metadata": {},
     "output_type": "execute_result"
    }
   ],
   "source": [
    "new_para = [text for text in text_paragraphs if len(text)>5]\n",
    "new_para"
   ]
  },
  {
   "cell_type": "code",
   "execution_count": 10,
   "id": "cd498af9",
   "metadata": {},
   "outputs": [
    {
     "data": {
      "text/plain": [
       "6"
      ]
     },
     "execution_count": 10,
     "metadata": {},
     "output_type": "execute_result"
    }
   ],
   "source": [
    "len(new_para)"
   ]
  },
  {
   "cell_type": "markdown",
   "id": "81330f40",
   "metadata": {},
   "source": [
    "## Word Tokenization"
   ]
  },
  {
   "cell_type": "code",
   "execution_count": 18,
   "id": "e9895a32",
   "metadata": {},
   "outputs": [],
   "source": [
    "para = \"Coronaviruses are a group of related RNA viruses that cause diseases in mammals and birds. In humans, these viruses cause respiratory tract infections that can range from mild to lethal. Mild illnesses include some cases of the common cold (which is also caused by other viruses, predominantly rhinoviruses), while more lethal varieties can cause SARS, MERS, and COVID-19. Symptoms in other species vary: in chickens, they cause an upper respiratory tract disease, while in cows and pigs they cause diarrhea. There are as yet no vaccines or antiviral drugs to prevent or treat human coronavirus infections.\""
   ]
  },
  {
   "cell_type": "code",
   "execution_count": 19,
   "id": "5b19dac1",
   "metadata": {},
   "outputs": [],
   "source": [
    "from nltk import word_tokenize"
   ]
  },
  {
   "cell_type": "code",
   "execution_count": 20,
   "id": "dd3319f3",
   "metadata": {},
   "outputs": [
    {
     "data": {
      "text/plain": [
       "['Coronaviruses',\n",
       " 'are',\n",
       " 'a',\n",
       " 'group',\n",
       " 'of',\n",
       " 'related',\n",
       " 'RNA',\n",
       " 'viruses',\n",
       " 'that',\n",
       " 'cause',\n",
       " 'diseases',\n",
       " 'in',\n",
       " 'mammals',\n",
       " 'and',\n",
       " 'birds',\n",
       " '.',\n",
       " 'In',\n",
       " 'humans',\n",
       " ',',\n",
       " 'these',\n",
       " 'viruses',\n",
       " 'cause',\n",
       " 'respiratory',\n",
       " 'tract',\n",
       " 'infections',\n",
       " 'that',\n",
       " 'can',\n",
       " 'range',\n",
       " 'from',\n",
       " 'mild',\n",
       " 'to',\n",
       " 'lethal',\n",
       " '.',\n",
       " 'Mild',\n",
       " 'illnesses',\n",
       " 'include',\n",
       " 'some',\n",
       " 'cases',\n",
       " 'of',\n",
       " 'the',\n",
       " 'common',\n",
       " 'cold',\n",
       " '(',\n",
       " 'which',\n",
       " 'is',\n",
       " 'also',\n",
       " 'caused',\n",
       " 'by',\n",
       " 'other',\n",
       " 'viruses',\n",
       " ',',\n",
       " 'predominantly',\n",
       " 'rhinoviruses',\n",
       " ')',\n",
       " ',',\n",
       " 'while',\n",
       " 'more',\n",
       " 'lethal',\n",
       " 'varieties',\n",
       " 'can',\n",
       " 'cause',\n",
       " 'SARS',\n",
       " ',',\n",
       " 'MERS',\n",
       " ',',\n",
       " 'and',\n",
       " 'COVID-19',\n",
       " '.',\n",
       " 'Symptoms',\n",
       " 'in',\n",
       " 'other',\n",
       " 'species',\n",
       " 'vary',\n",
       " ':',\n",
       " 'in',\n",
       " 'chickens',\n",
       " ',',\n",
       " 'they',\n",
       " 'cause',\n",
       " 'an',\n",
       " 'upper',\n",
       " 'respiratory',\n",
       " 'tract',\n",
       " 'disease',\n",
       " ',',\n",
       " 'while',\n",
       " 'in',\n",
       " 'cows',\n",
       " 'and',\n",
       " 'pigs',\n",
       " 'they',\n",
       " 'cause',\n",
       " 'diarrhea',\n",
       " '.',\n",
       " 'There',\n",
       " 'are',\n",
       " 'as',\n",
       " 'yet',\n",
       " 'no',\n",
       " 'vaccines',\n",
       " 'or',\n",
       " 'antiviral',\n",
       " 'drugs',\n",
       " 'to',\n",
       " 'prevent',\n",
       " 'or',\n",
       " 'treat',\n",
       " 'human',\n",
       " 'coronavirus',\n",
       " 'infections',\n",
       " '.']"
      ]
     },
     "execution_count": 20,
     "metadata": {},
     "output_type": "execute_result"
    }
   ],
   "source": [
    "word_token = word_tokenize(para)\n",
    "word_token"
   ]
  },
  {
   "cell_type": "code",
   "execution_count": 21,
   "id": "373ec5de",
   "metadata": {},
   "outputs": [
    {
     "data": {
      "text/plain": [
       "111"
      ]
     },
     "execution_count": 21,
     "metadata": {},
     "output_type": "execute_result"
    }
   ],
   "source": [
    "len(word_token)"
   ]
  },
  {
   "cell_type": "markdown",
   "id": "4fc93afd",
   "metadata": {},
   "source": [
    "## N-Grams (bigram and trigrams)"
   ]
  },
  {
   "cell_type": "code",
   "execution_count": 23,
   "id": "ae299702",
   "metadata": {},
   "outputs": [],
   "source": [
    "# Import library\n",
    "from nltk import ngrams"
   ]
  },
  {
   "cell_type": "code",
   "execution_count": 24,
   "id": "79d6d126",
   "metadata": {},
   "outputs": [
    {
     "data": {
      "text/plain": [
       "[('Coronaviruses', 'are'),\n",
       " ('are', 'a'),\n",
       " ('a', 'group'),\n",
       " ('group', 'of'),\n",
       " ('of', 'related'),\n",
       " ('related', 'RNA'),\n",
       " ('RNA', 'viruses'),\n",
       " ('viruses', 'that'),\n",
       " ('that', 'cause'),\n",
       " ('cause', 'diseases'),\n",
       " ('diseases', 'in'),\n",
       " ('in', 'mammals'),\n",
       " ('mammals', 'and'),\n",
       " ('and', 'birds'),\n",
       " ('birds', '.'),\n",
       " ('.', 'In'),\n",
       " ('In', 'humans'),\n",
       " ('humans', ','),\n",
       " (',', 'these'),\n",
       " ('these', 'viruses'),\n",
       " ('viruses', 'cause'),\n",
       " ('cause', 'respiratory'),\n",
       " ('respiratory', 'tract'),\n",
       " ('tract', 'infections'),\n",
       " ('infections', 'that'),\n",
       " ('that', 'can'),\n",
       " ('can', 'range'),\n",
       " ('range', 'from'),\n",
       " ('from', 'mild'),\n",
       " ('mild', 'to'),\n",
       " ('to', 'lethal'),\n",
       " ('lethal', '.'),\n",
       " ('.', 'Mild'),\n",
       " ('Mild', 'illnesses'),\n",
       " ('illnesses', 'include'),\n",
       " ('include', 'some'),\n",
       " ('some', 'cases'),\n",
       " ('cases', 'of'),\n",
       " ('of', 'the'),\n",
       " ('the', 'common'),\n",
       " ('common', 'cold'),\n",
       " ('cold', '('),\n",
       " ('(', 'which'),\n",
       " ('which', 'is'),\n",
       " ('is', 'also'),\n",
       " ('also', 'caused'),\n",
       " ('caused', 'by'),\n",
       " ('by', 'other'),\n",
       " ('other', 'viruses'),\n",
       " ('viruses', ','),\n",
       " (',', 'predominantly'),\n",
       " ('predominantly', 'rhinoviruses'),\n",
       " ('rhinoviruses', ')'),\n",
       " (')', ','),\n",
       " (',', 'while'),\n",
       " ('while', 'more'),\n",
       " ('more', 'lethal'),\n",
       " ('lethal', 'varieties'),\n",
       " ('varieties', 'can'),\n",
       " ('can', 'cause'),\n",
       " ('cause', 'SARS'),\n",
       " ('SARS', ','),\n",
       " (',', 'MERS'),\n",
       " ('MERS', ','),\n",
       " (',', 'and'),\n",
       " ('and', 'COVID-19'),\n",
       " ('COVID-19', '.'),\n",
       " ('.', 'Symptoms'),\n",
       " ('Symptoms', 'in'),\n",
       " ('in', 'other'),\n",
       " ('other', 'species'),\n",
       " ('species', 'vary'),\n",
       " ('vary', ':'),\n",
       " (':', 'in'),\n",
       " ('in', 'chickens'),\n",
       " ('chickens', ','),\n",
       " (',', 'they'),\n",
       " ('they', 'cause'),\n",
       " ('cause', 'an'),\n",
       " ('an', 'upper'),\n",
       " ('upper', 'respiratory'),\n",
       " ('respiratory', 'tract'),\n",
       " ('tract', 'disease'),\n",
       " ('disease', ','),\n",
       " (',', 'while'),\n",
       " ('while', 'in'),\n",
       " ('in', 'cows'),\n",
       " ('cows', 'and'),\n",
       " ('and', 'pigs'),\n",
       " ('pigs', 'they'),\n",
       " ('they', 'cause'),\n",
       " ('cause', 'diarrhea'),\n",
       " ('diarrhea', '.'),\n",
       " ('.', 'There'),\n",
       " ('There', 'are'),\n",
       " ('are', 'as'),\n",
       " ('as', 'yet'),\n",
       " ('yet', 'no'),\n",
       " ('no', 'vaccines'),\n",
       " ('vaccines', 'or'),\n",
       " ('or', 'antiviral'),\n",
       " ('antiviral', 'drugs'),\n",
       " ('drugs', 'to'),\n",
       " ('to', 'prevent'),\n",
       " ('prevent', 'or'),\n",
       " ('or', 'treat'),\n",
       " ('treat', 'human'),\n",
       " ('human', 'coronavirus'),\n",
       " ('coronavirus', 'infections'),\n",
       " ('infections', '.')]"
      ]
     },
     "execution_count": 24,
     "metadata": {},
     "output_type": "execute_result"
    }
   ],
   "source": [
    "#bigram\n",
    "bigram=list(ngrams(word_token,2))\n",
    "bigram"
   ]
  },
  {
   "cell_type": "code",
   "execution_count": 25,
   "id": "6d99dfd2",
   "metadata": {},
   "outputs": [
    {
     "data": {
      "text/plain": [
       "[('Coronaviruses', 'are', 'a'),\n",
       " ('are', 'a', 'group'),\n",
       " ('a', 'group', 'of'),\n",
       " ('group', 'of', 'related'),\n",
       " ('of', 'related', 'RNA'),\n",
       " ('related', 'RNA', 'viruses'),\n",
       " ('RNA', 'viruses', 'that'),\n",
       " ('viruses', 'that', 'cause'),\n",
       " ('that', 'cause', 'diseases'),\n",
       " ('cause', 'diseases', 'in'),\n",
       " ('diseases', 'in', 'mammals'),\n",
       " ('in', 'mammals', 'and'),\n",
       " ('mammals', 'and', 'birds'),\n",
       " ('and', 'birds', '.'),\n",
       " ('birds', '.', 'In'),\n",
       " ('.', 'In', 'humans'),\n",
       " ('In', 'humans', ','),\n",
       " ('humans', ',', 'these'),\n",
       " (',', 'these', 'viruses'),\n",
       " ('these', 'viruses', 'cause'),\n",
       " ('viruses', 'cause', 'respiratory'),\n",
       " ('cause', 'respiratory', 'tract'),\n",
       " ('respiratory', 'tract', 'infections'),\n",
       " ('tract', 'infections', 'that'),\n",
       " ('infections', 'that', 'can'),\n",
       " ('that', 'can', 'range'),\n",
       " ('can', 'range', 'from'),\n",
       " ('range', 'from', 'mild'),\n",
       " ('from', 'mild', 'to'),\n",
       " ('mild', 'to', 'lethal'),\n",
       " ('to', 'lethal', '.'),\n",
       " ('lethal', '.', 'Mild'),\n",
       " ('.', 'Mild', 'illnesses'),\n",
       " ('Mild', 'illnesses', 'include'),\n",
       " ('illnesses', 'include', 'some'),\n",
       " ('include', 'some', 'cases'),\n",
       " ('some', 'cases', 'of'),\n",
       " ('cases', 'of', 'the'),\n",
       " ('of', 'the', 'common'),\n",
       " ('the', 'common', 'cold'),\n",
       " ('common', 'cold', '('),\n",
       " ('cold', '(', 'which'),\n",
       " ('(', 'which', 'is'),\n",
       " ('which', 'is', 'also'),\n",
       " ('is', 'also', 'caused'),\n",
       " ('also', 'caused', 'by'),\n",
       " ('caused', 'by', 'other'),\n",
       " ('by', 'other', 'viruses'),\n",
       " ('other', 'viruses', ','),\n",
       " ('viruses', ',', 'predominantly'),\n",
       " (',', 'predominantly', 'rhinoviruses'),\n",
       " ('predominantly', 'rhinoviruses', ')'),\n",
       " ('rhinoviruses', ')', ','),\n",
       " (')', ',', 'while'),\n",
       " (',', 'while', 'more'),\n",
       " ('while', 'more', 'lethal'),\n",
       " ('more', 'lethal', 'varieties'),\n",
       " ('lethal', 'varieties', 'can'),\n",
       " ('varieties', 'can', 'cause'),\n",
       " ('can', 'cause', 'SARS'),\n",
       " ('cause', 'SARS', ','),\n",
       " ('SARS', ',', 'MERS'),\n",
       " (',', 'MERS', ','),\n",
       " ('MERS', ',', 'and'),\n",
       " (',', 'and', 'COVID-19'),\n",
       " ('and', 'COVID-19', '.'),\n",
       " ('COVID-19', '.', 'Symptoms'),\n",
       " ('.', 'Symptoms', 'in'),\n",
       " ('Symptoms', 'in', 'other'),\n",
       " ('in', 'other', 'species'),\n",
       " ('other', 'species', 'vary'),\n",
       " ('species', 'vary', ':'),\n",
       " ('vary', ':', 'in'),\n",
       " (':', 'in', 'chickens'),\n",
       " ('in', 'chickens', ','),\n",
       " ('chickens', ',', 'they'),\n",
       " (',', 'they', 'cause'),\n",
       " ('they', 'cause', 'an'),\n",
       " ('cause', 'an', 'upper'),\n",
       " ('an', 'upper', 'respiratory'),\n",
       " ('upper', 'respiratory', 'tract'),\n",
       " ('respiratory', 'tract', 'disease'),\n",
       " ('tract', 'disease', ','),\n",
       " ('disease', ',', 'while'),\n",
       " (',', 'while', 'in'),\n",
       " ('while', 'in', 'cows'),\n",
       " ('in', 'cows', 'and'),\n",
       " ('cows', 'and', 'pigs'),\n",
       " ('and', 'pigs', 'they'),\n",
       " ('pigs', 'they', 'cause'),\n",
       " ('they', 'cause', 'diarrhea'),\n",
       " ('cause', 'diarrhea', '.'),\n",
       " ('diarrhea', '.', 'There'),\n",
       " ('.', 'There', 'are'),\n",
       " ('There', 'are', 'as'),\n",
       " ('are', 'as', 'yet'),\n",
       " ('as', 'yet', 'no'),\n",
       " ('yet', 'no', 'vaccines'),\n",
       " ('no', 'vaccines', 'or'),\n",
       " ('vaccines', 'or', 'antiviral'),\n",
       " ('or', 'antiviral', 'drugs'),\n",
       " ('antiviral', 'drugs', 'to'),\n",
       " ('drugs', 'to', 'prevent'),\n",
       " ('to', 'prevent', 'or'),\n",
       " ('prevent', 'or', 'treat'),\n",
       " ('or', 'treat', 'human'),\n",
       " ('treat', 'human', 'coronavirus'),\n",
       " ('human', 'coronavirus', 'infections'),\n",
       " ('coronavirus', 'infections', '.')]"
      ]
     },
     "execution_count": 25,
     "metadata": {},
     "output_type": "execute_result"
    }
   ],
   "source": [
    "# trigram\n",
    "#bigram\n",
    "trigram=list(ngrams(word_token,3))\n",
    "trigram"
   ]
  },
  {
   "cell_type": "code",
   "execution_count": null,
   "id": "b93ddca9",
   "metadata": {},
   "outputs": [],
   "source": []
  }
 ],
 "metadata": {
  "kernelspec": {
   "display_name": "Python 3 (ipykernel)",
   "language": "python",
   "name": "python3"
  },
  "language_info": {
   "codemirror_mode": {
    "name": "ipython",
    "version": 3
   },
   "file_extension": ".py",
   "mimetype": "text/x-python",
   "name": "python",
   "nbconvert_exporter": "python",
   "pygments_lexer": "ipython3",
   "version": "3.8.8"
  }
 },
 "nbformat": 4,
 "nbformat_minor": 5
}
