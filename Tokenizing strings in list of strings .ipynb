{
 "cells": [
  {
   "cell_type": "markdown",
   "id": "6e8360e5",
   "metadata": {},
   "source": [
    "### Tokenizing strings in list of strings\n",
    "<img src=\"https://user-images.githubusercontent.com/32620288/166104650-bca608ed-afc3-4c56-8bf2-eebf0b52b054.png\" width=\"400\" height=\"1\">\n",
    "\n",
    "----\n",
    "Sometimes, while working with data, we need to perform the string tokenization of the strings that we might get as an input as list of strings"
   ]
  },
  {
   "cell_type": "markdown",
   "id": "7b6124b7",
   "metadata": {},
   "source": [
    " ##### Using list comprehension + split()\n",
    "We can achieve this particular task using list comprehension to traverse for each strings from list of strings and split function performs the task of tokenization."
   ]
  },
  {
   "cell_type": "code",
   "execution_count": 1,
   "id": "b2aebaa8",
   "metadata": {},
   "outputs": [
    {
     "name": "stdout",
     "output_type": "stream",
     "text": [
      "The original list : ['Russia-Ukraine War LIVE', 'Embassy Heads Of US, UK, Germany & France Meet In Kyiv', 'The Russia-Ukraine war has entered day 80 with Russia escalating its assault in east and southern Ukraine. Meanwhile, the US House has passed a $40bn aid package for Kyiv. On the other hand, Russian FM Sergei Lavrov accused the UN of failing to establish a political solution for Ukraine. Zelenskyy stated that the war will end for Kyiv only after Russian troops returned all occupied territories.']\n",
      "The list after split of strings is : [['Russia-Ukraine', 'War', 'LIVE'], ['Embassy', 'Heads', 'Of', 'US,', 'UK,', 'Germany', '&', 'France', 'Meet', 'In', 'Kyiv'], ['The', 'Russia-Ukraine', 'war', 'has', 'entered', 'day', '80', 'with', 'Russia', 'escalating', 'its', 'assault', 'in', 'east', 'and', 'southern', 'Ukraine.', 'Meanwhile,', 'the', 'US', 'House', 'has', 'passed', 'a', '$40bn', 'aid', 'package', 'for', 'Kyiv.', 'On', 'the', 'other', 'hand,', 'Russian', 'FM', 'Sergei', 'Lavrov', 'accused', 'the', 'UN', 'of', 'failing', 'to', 'establish', 'a', 'political', 'solution', 'for', 'Ukraine.', 'Zelenskyy', 'stated', 'that', 'the', 'war', 'will', 'end', 'for', 'Kyiv', 'only', 'after', 'Russian', 'troops', 'returned', 'all', 'occupied', 'territories.']]\n"
     ]
    }
   ],
   "source": [
    "# Tokenizing strings in list of strings\n",
    "# using list comprehension + split()\n",
    "  \n",
    "# initializing list\n",
    "test_list = ['Russia-Ukraine War LIVE', 'Embassy Heads Of US, UK, Germany & France Meet In Kyiv', 'The Russia-Ukraine war has entered day 80 with Russia escalating its assault in east and southern Ukraine. Meanwhile, the US House has passed a $40bn aid package for Kyiv. On the other hand, Russian FM Sergei Lavrov accused the UN of failing to establish a political solution for Ukraine. Zelenskyy stated that the war will end for Kyiv only after Russian troops returned all occupied territories.']\n",
    "  \n",
    "# printing original list\n",
    "print(\"The original list : \" + str(test_list))\n",
    "  \n",
    "# using list comprehension + split()\n",
    "# Tokenizing strings in list of strings\n",
    "res = [sub.split() for sub in test_list]\n",
    "  \n",
    "# print result\n",
    "print(\"The list after split of strings is : \" + str(res))"
   ]
  },
  {
   "cell_type": "markdown",
   "id": "1fb88915",
   "metadata": {},
   "source": [
    "##### Using map() + split()\n",
    "This is yet another method in which this particular task can be solved. In this method, we just perform the similar task as above, just we use map function to bind the split logic to the entire list."
   ]
  },
  {
   "cell_type": "code",
   "execution_count": 2,
   "id": "4b531fc3",
   "metadata": {},
   "outputs": [
    {
     "name": "stdout",
     "output_type": "stream",
     "text": [
      "The original list : ['Russia-Ukraine War LIVE', 'Embassy Heads Of US, UK, Germany & France Meet In Kyiv', 'The Russia-Ukraine war has entered day 80 with Russia escalating its assault in east and southern Ukraine. Meanwhile, the US House has passed a $40bn aid package for Kyiv. On the other hand, Russian FM Sergei Lavrov accused the UN of failing to establish a political solution for Ukraine. Zelenskyy stated that the war will end for Kyiv only after Russian troops returned all occupied territories.']\n",
      "The list after split of strings is : [['Russia-Ukraine', 'War', 'LIVE'], ['Embassy', 'Heads', 'Of', 'US,', 'UK,', 'Germany', '&', 'France', 'Meet', 'In', 'Kyiv'], ['The', 'Russia-Ukraine', 'war', 'has', 'entered', 'day', '80', 'with', 'Russia', 'escalating', 'its', 'assault', 'in', 'east', 'and', 'southern', 'Ukraine.', 'Meanwhile,', 'the', 'US', 'House', 'has', 'passed', 'a', '$40bn', 'aid', 'package', 'for', 'Kyiv.', 'On', 'the', 'other', 'hand,', 'Russian', 'FM', 'Sergei', 'Lavrov', 'accused', 'the', 'UN', 'of', 'failing', 'to', 'establish', 'a', 'political', 'solution', 'for', 'Ukraine.', 'Zelenskyy', 'stated', 'that', 'the', 'war', 'will', 'end', 'for', 'Kyiv', 'only', 'after', 'Russian', 'troops', 'returned', 'all', 'occupied', 'territories.']]\n"
     ]
    }
   ],
   "source": [
    "# Tokenizing strings in list of strings\n",
    "# using map() + split()\n",
    "  \n",
    "# initializing list\n",
    "test_list = ['Russia-Ukraine War LIVE', 'Embassy Heads Of US, UK, Germany & France Meet In Kyiv', 'The Russia-Ukraine war has entered day 80 with Russia escalating its assault in east and southern Ukraine. Meanwhile, the US House has passed a $40bn aid package for Kyiv. On the other hand, Russian FM Sergei Lavrov accused the UN of failing to establish a political solution for Ukraine. Zelenskyy stated that the war will end for Kyiv only after Russian troops returned all occupied territories.']\n",
    "  \n",
    "# printing original list\n",
    "print(\"The original list : \" + str(test_list))\n",
    "  \n",
    "# using map() + split()\n",
    "# Tokenizing strings in list of strings\n",
    "res = list(map(str.split, test_list))\n",
    "  \n",
    "# print result\n",
    "print(\"The list after split of strings is : \" + str(res))"
   ]
  },
  {
   "cell_type": "markdown",
   "id": "08667535",
   "metadata": {},
   "source": [
    "-----------------------------------------------------------------------------------------------------------------"
   ]
  }
 ],
 "metadata": {
  "kernelspec": {
   "display_name": "Python 3 (ipykernel)",
   "language": "python",
   "name": "python3"
  },
  "language_info": {
   "codemirror_mode": {
    "name": "ipython",
    "version": 3
   },
   "file_extension": ".py",
   "mimetype": "text/x-python",
   "name": "python",
   "nbconvert_exporter": "python",
   "pygments_lexer": "ipython3",
   "version": "3.8.12"
  }
 },
 "nbformat": 4,
 "nbformat_minor": 5
}
